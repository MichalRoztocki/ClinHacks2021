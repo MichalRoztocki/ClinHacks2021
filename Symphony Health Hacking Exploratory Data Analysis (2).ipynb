{
 "cells": [
  {
   "cell_type": "code",
   "execution_count": 522,
   "id": "living-depression",
   "metadata": {},
   "outputs": [],
   "source": [
    "import numpy as np\n",
    "import pandas as pd\n",
    "import matplotlib.pyplot as plt"
   ]
  },
  {
   "cell_type": "markdown",
   "id": "opposite-traveler",
   "metadata": {},
   "source": [
    "## Storing the three datasets into Dataframe Objects using Pandas"
   ]
  },
  {
   "cell_type": "code",
   "execution_count": 577,
   "id": "original-atlantic",
   "metadata": {},
   "outputs": [],
   "source": [
    "surgery_df = pd.read_csv(\"Hackathon.PXdata.20210311.xlsx - covid_srgry_px_2019.csv\", index_col = 0)\n",
    "state_df = pd.read_csv(\"Hackathon.DXdata.StateRestrictions20210311.xlsx - DX.csv\", index_col = 0)\n",
    "restrictions_df = pd.read_csv(\"Hackathon.DXdata.StateRestrictions20210311.xlsx - State Restrictions.csv\", index_col = 0)"
   ]
  },
  {
   "cell_type": "markdown",
   "id": "living-academy",
   "metadata": {},
   "source": [
    "# Step 1 - Data Cleaning"
   ]
  },
  {
   "cell_type": "markdown",
   "id": "controlling-variable",
   "metadata": {},
   "source": [
    "## Just looking at the format of the datasets in the following cells"
   ]
  },
  {
   "cell_type": "code",
   "execution_count": 524,
   "id": "alive-kelly",
   "metadata": {},
   "outputs": [
    {
     "data": {
      "text/html": [
       "<div>\n",
       "<style scoped>\n",
       "    .dataframe tbody tr th:only-of-type {\n",
       "        vertical-align: middle;\n",
       "    }\n",
       "\n",
       "    .dataframe tbody tr th {\n",
       "        vertical-align: top;\n",
       "    }\n",
       "\n",
       "    .dataframe thead th {\n",
       "        text-align: right;\n",
       "    }\n",
       "</style>\n",
       "<table border=\"1\" class=\"dataframe\">\n",
       "  <thead>\n",
       "    <tr style=\"text-align: right;\">\n",
       "      <th></th>\n",
       "      <th>QUARTER</th>\n",
       "      <th>MONTH</th>\n",
       "      <th>WEEK</th>\n",
       "      <th>ELECT_PX</th>\n",
       "      <th>PTNT_ST_ABBR</th>\n",
       "      <th>PTNT_STATE</th>\n",
       "      <th>PTNT_AGE_GRP</th>\n",
       "      <th>CLAIMS</th>\n",
       "      <th>PATIENTS</th>\n",
       "      <th>PHYSICIANS</th>\n",
       "    </tr>\n",
       "    <tr>\n",
       "      <th>YEAR</th>\n",
       "      <th></th>\n",
       "      <th></th>\n",
       "      <th></th>\n",
       "      <th></th>\n",
       "      <th></th>\n",
       "      <th></th>\n",
       "      <th></th>\n",
       "      <th></th>\n",
       "      <th></th>\n",
       "      <th></th>\n",
       "    </tr>\n",
       "  </thead>\n",
       "  <tbody>\n",
       "    <tr>\n",
       "      <th>2018</th>\n",
       "      <td>2018-4</td>\n",
       "      <td>2018-12</td>\n",
       "      <td>4-Jan-19</td>\n",
       "      <td>MASTECTOMY</td>\n",
       "      <td>WI</td>\n",
       "      <td>WISCONSIN</td>\n",
       "      <td>80 or older</td>\n",
       "      <td>1</td>\n",
       "      <td>1</td>\n",
       "      <td>1</td>\n",
       "    </tr>\n",
       "    <tr>\n",
       "      <th>2019</th>\n",
       "      <td>2019-1</td>\n",
       "      <td>2019-01</td>\n",
       "      <td>4-Jan-19</td>\n",
       "      <td>CABG</td>\n",
       "      <td>CA</td>\n",
       "      <td>CALIFORNIA</td>\n",
       "      <td>40-49</td>\n",
       "      <td>1</td>\n",
       "      <td>1</td>\n",
       "      <td>1</td>\n",
       "    </tr>\n",
       "  </tbody>\n",
       "</table>\n",
       "</div>"
      ],
      "text/plain": [
       "     QUARTER    MONTH      WEEK    ELECT_PX PTNT_ST_ABBR  PTNT_STATE  \\\n",
       "YEAR                                                                   \n",
       "2018  2018-4  2018-12  4-Jan-19  MASTECTOMY           WI   WISCONSIN   \n",
       "2019  2019-1  2019-01  4-Jan-19        CABG           CA  CALIFORNIA   \n",
       "\n",
       "     PTNT_AGE_GRP  CLAIMS  PATIENTS  PHYSICIANS  \n",
       "YEAR                                             \n",
       "2018  80 or older       1         1           1  \n",
       "2019        40-49       1         1           1  "
      ]
     },
     "execution_count": 524,
     "metadata": {},
     "output_type": "execute_result"
    }
   ],
   "source": [
    "surgery_df.head(2)"
   ]
  },
  {
   "cell_type": "code",
   "execution_count": 525,
   "id": "digital-campus",
   "metadata": {},
   "outputs": [
    {
     "data": {
      "text/html": [
       "<div>\n",
       "<style scoped>\n",
       "    .dataframe tbody tr th:only-of-type {\n",
       "        vertical-align: middle;\n",
       "    }\n",
       "\n",
       "    .dataframe tbody tr th {\n",
       "        vertical-align: top;\n",
       "    }\n",
       "\n",
       "    .dataframe thead th {\n",
       "        text-align: right;\n",
       "    }\n",
       "</style>\n",
       "<table border=\"1\" class=\"dataframe\">\n",
       "  <thead>\n",
       "    <tr style=\"text-align: right;\">\n",
       "      <th></th>\n",
       "      <th>DIAG_DESC</th>\n",
       "      <th>PAT_AGE_TIER</th>\n",
       "      <th>PAT_STATE</th>\n",
       "      <th>WEEK</th>\n",
       "      <th>CLAIMS</th>\n",
       "      <th>PATIENTS</th>\n",
       "      <th>PHYSICIANS</th>\n",
       "    </tr>\n",
       "    <tr>\n",
       "      <th>DIAG_CODE</th>\n",
       "      <th></th>\n",
       "      <th></th>\n",
       "      <th></th>\n",
       "      <th></th>\n",
       "      <th></th>\n",
       "      <th></th>\n",
       "      <th></th>\n",
       "    </tr>\n",
       "  </thead>\n",
       "  <tbody>\n",
       "    <tr>\n",
       "      <th>U07.1</th>\n",
       "      <td>COVID-19</td>\n",
       "      <td>65+</td>\n",
       "      <td>NY</td>\n",
       "      <td>20200417.0</td>\n",
       "      <td>25,462</td>\n",
       "      <td>10,371</td>\n",
       "      <td>7,005</td>\n",
       "    </tr>\n",
       "    <tr>\n",
       "      <th>U07.1</th>\n",
       "      <td>COVID-19</td>\n",
       "      <td>65+</td>\n",
       "      <td>NY</td>\n",
       "      <td>20200501.0</td>\n",
       "      <td>24,352</td>\n",
       "      <td>10,731</td>\n",
       "      <td>6,911</td>\n",
       "    </tr>\n",
       "  </tbody>\n",
       "</table>\n",
       "</div>"
      ],
      "text/plain": [
       "          DIAG_DESC PAT_AGE_TIER PAT_STATE        WEEK  CLAIMS PATIENTS  \\\n",
       "DIAG_CODE                                                                 \n",
       "U07.1      COVID-19          65+        NY  20200417.0  25,462   10,371   \n",
       "U07.1      COVID-19          65+        NY  20200501.0  24,352   10,731   \n",
       "\n",
       "          PHYSICIANS  \n",
       "DIAG_CODE             \n",
       "U07.1          7,005  \n",
       "U07.1          6,911  "
      ]
     },
     "execution_count": 525,
     "metadata": {},
     "output_type": "execute_result"
    }
   ],
   "source": [
    "state_df.head(2)"
   ]
  },
  {
   "cell_type": "code",
   "execution_count": 578,
   "id": "natural-deadline",
   "metadata": {},
   "outputs": [
    {
     "data": {
      "text/html": [
       "<div>\n",
       "<style scoped>\n",
       "    .dataframe tbody tr th:only-of-type {\n",
       "        vertical-align: middle;\n",
       "    }\n",
       "\n",
       "    .dataframe tbody tr th {\n",
       "        vertical-align: top;\n",
       "    }\n",
       "\n",
       "    .dataframe thead th {\n",
       "        text-align: right;\n",
       "    }\n",
       "</style>\n",
       "<table border=\"1\" class=\"dataframe\">\n",
       "  <thead>\n",
       "    <tr style=\"text-align: right;\">\n",
       "      <th></th>\n",
       "      <th>RANK RESTR</th>\n",
       "      <th>SCORE RESTR</th>\n",
       "    </tr>\n",
       "    <tr>\n",
       "      <th>State</th>\n",
       "      <th></th>\n",
       "      <th></th>\n",
       "    </tr>\n",
       "  </thead>\n",
       "  <tbody>\n",
       "    <tr>\n",
       "      <th>AK</th>\n",
       "      <td>12</td>\n",
       "      <td>66.85</td>\n",
       "    </tr>\n",
       "    <tr>\n",
       "      <th>AL</th>\n",
       "      <td>14</td>\n",
       "      <td>63.39</td>\n",
       "    </tr>\n",
       "  </tbody>\n",
       "</table>\n",
       "</div>"
      ],
      "text/plain": [
       "       RANK RESTR  SCORE RESTR\n",
       "State                         \n",
       "AK             12        66.85\n",
       "AL             14        63.39"
      ]
     },
     "execution_count": 578,
     "metadata": {},
     "output_type": "execute_result"
    }
   ],
   "source": [
    "restrictions_df.head(2)"
   ]
  },
  {
   "cell_type": "markdown",
   "id": "metropolitan-evidence",
   "metadata": {},
   "source": [
    "## Below are the shapes of the three datasets, the first number is the amount of rows, the second is columns."
   ]
  },
  {
   "cell_type": "code",
   "execution_count": 579,
   "id": "dietary-coordinator",
   "metadata": {},
   "outputs": [
    {
     "name": "stdout",
     "output_type": "stream",
     "text": [
      "(422047, 10)\n",
      "(12749, 7)\n",
      "(51, 2)\n"
     ]
    }
   ],
   "source": [
    "print(surgery_df.shape)\n",
    "print(state_df.shape)\n",
    "print(restrictions_df.shape)"
   ]
  },
  {
   "cell_type": "markdown",
   "id": "peaceful-monthly",
   "metadata": {},
   "source": [
    "## As you can see below, the state (DX) dataset is the only one with null (empty) values."
   ]
  },
  {
   "cell_type": "code",
   "execution_count": 528,
   "id": "gorgeous-ethernet",
   "metadata": {},
   "outputs": [
    {
     "data": {
      "text/plain": [
       "QUARTER         0\n",
       "MONTH           0\n",
       "WEEK            0\n",
       "ELECT_PX        0\n",
       "PTNT_ST_ABBR    0\n",
       "PTNT_STATE      0\n",
       "PTNT_AGE_GRP    0\n",
       "CLAIMS          0\n",
       "PATIENTS        0\n",
       "PHYSICIANS      0\n",
       "dtype: int64"
      ]
     },
     "execution_count": 528,
     "metadata": {},
     "output_type": "execute_result"
    }
   ],
   "source": [
    "surgery_df.isnull().sum(axis=0)"
   ]
  },
  {
   "cell_type": "code",
   "execution_count": 529,
   "id": "executed-estimate",
   "metadata": {},
   "outputs": [
    {
     "data": {
      "text/plain": [
       "DIAG_DESC       2683\n",
       "PAT_AGE_TIER    2683\n",
       "PAT_STATE       2683\n",
       "WEEK            2683\n",
       "CLAIMS          2683\n",
       "PATIENTS        2683\n",
       "PHYSICIANS      2683\n",
       "dtype: int64"
      ]
     },
     "execution_count": 529,
     "metadata": {},
     "output_type": "execute_result"
    }
   ],
   "source": [
    "state_df.isnull().sum(axis=0)"
   ]
  },
  {
   "cell_type": "code",
   "execution_count": 580,
   "id": "colored-projector",
   "metadata": {},
   "outputs": [
    {
     "data": {
      "text/plain": [
       "RANK RESTR     0\n",
       "SCORE RESTR    0\n",
       "dtype: int64"
      ]
     },
     "execution_count": 580,
     "metadata": {},
     "output_type": "execute_result"
    }
   ],
   "source": [
    "restrictions_df.isnull().sum(axis=0)"
   ]
  },
  {
   "cell_type": "markdown",
   "id": "prescribed-possible",
   "metadata": {},
   "source": [
    "## Here I'm just sorting the surgery dataset by year and week from earliest to latest."
   ]
  },
  {
   "cell_type": "code",
   "execution_count": 531,
   "id": "optical-insured",
   "metadata": {},
   "outputs": [
    {
     "data": {
      "text/html": [
       "<div>\n",
       "<style scoped>\n",
       "    .dataframe tbody tr th:only-of-type {\n",
       "        vertical-align: middle;\n",
       "    }\n",
       "\n",
       "    .dataframe tbody tr th {\n",
       "        vertical-align: top;\n",
       "    }\n",
       "\n",
       "    .dataframe thead th {\n",
       "        text-align: right;\n",
       "    }\n",
       "</style>\n",
       "<table border=\"1\" class=\"dataframe\">\n",
       "  <thead>\n",
       "    <tr style=\"text-align: right;\">\n",
       "      <th></th>\n",
       "      <th>QUARTER</th>\n",
       "      <th>MONTH</th>\n",
       "      <th>WEEK</th>\n",
       "      <th>ELECT_PX</th>\n",
       "      <th>PTNT_ST_ABBR</th>\n",
       "      <th>PTNT_STATE</th>\n",
       "      <th>PTNT_AGE_GRP</th>\n",
       "      <th>CLAIMS</th>\n",
       "      <th>PATIENTS</th>\n",
       "      <th>PHYSICIANS</th>\n",
       "    </tr>\n",
       "    <tr>\n",
       "      <th>YEAR</th>\n",
       "      <th></th>\n",
       "      <th></th>\n",
       "      <th></th>\n",
       "      <th></th>\n",
       "      <th></th>\n",
       "      <th></th>\n",
       "      <th></th>\n",
       "      <th></th>\n",
       "      <th></th>\n",
       "      <th></th>\n",
       "    </tr>\n",
       "  </thead>\n",
       "  <tbody>\n",
       "    <tr>\n",
       "      <th>2018</th>\n",
       "      <td>2018-4</td>\n",
       "      <td>2018-12</td>\n",
       "      <td>4-Jan-19</td>\n",
       "      <td>MASTECTOMY</td>\n",
       "      <td>WI</td>\n",
       "      <td>WISCONSIN</td>\n",
       "      <td>80 or older</td>\n",
       "      <td>1</td>\n",
       "      <td>1</td>\n",
       "      <td>1</td>\n",
       "    </tr>\n",
       "    <tr>\n",
       "      <th>2019</th>\n",
       "      <td>2019-1</td>\n",
       "      <td>2019-01</td>\n",
       "      <td>1-Feb-19</td>\n",
       "      <td>CABG</td>\n",
       "      <td>AL</td>\n",
       "      <td>ALABAMA</td>\n",
       "      <td>50-64</td>\n",
       "      <td>2</td>\n",
       "      <td>1</td>\n",
       "      <td>2</td>\n",
       "    </tr>\n",
       "    <tr>\n",
       "      <th>2019</th>\n",
       "      <td>2019-1</td>\n",
       "      <td>2019-01</td>\n",
       "      <td>1-Feb-19</td>\n",
       "      <td>CABG</td>\n",
       "      <td>AR</td>\n",
       "      <td>ARKANSAS</td>\n",
       "      <td>50-64</td>\n",
       "      <td>1</td>\n",
       "      <td>1</td>\n",
       "      <td>1</td>\n",
       "    </tr>\n",
       "    <tr>\n",
       "      <th>2019</th>\n",
       "      <td>2019-1</td>\n",
       "      <td>2019-01</td>\n",
       "      <td>1-Feb-19</td>\n",
       "      <td>CABG</td>\n",
       "      <td>AR</td>\n",
       "      <td>ARKANSAS</td>\n",
       "      <td>65-79</td>\n",
       "      <td>2</td>\n",
       "      <td>2</td>\n",
       "      <td>1</td>\n",
       "    </tr>\n",
       "    <tr>\n",
       "      <th>2019</th>\n",
       "      <td>2019-1</td>\n",
       "      <td>2019-01</td>\n",
       "      <td>1-Feb-19</td>\n",
       "      <td>CABG</td>\n",
       "      <td>AZ</td>\n",
       "      <td>ARIZONA</td>\n",
       "      <td>65-79</td>\n",
       "      <td>3</td>\n",
       "      <td>2</td>\n",
       "      <td>3</td>\n",
       "    </tr>\n",
       "  </tbody>\n",
       "</table>\n",
       "</div>"
      ],
      "text/plain": [
       "     QUARTER    MONTH      WEEK    ELECT_PX PTNT_ST_ABBR PTNT_STATE  \\\n",
       "YEAR                                                                  \n",
       "2018  2018-4  2018-12  4-Jan-19  MASTECTOMY           WI  WISCONSIN   \n",
       "2019  2019-1  2019-01  1-Feb-19        CABG           AL    ALABAMA   \n",
       "2019  2019-1  2019-01  1-Feb-19        CABG           AR   ARKANSAS   \n",
       "2019  2019-1  2019-01  1-Feb-19        CABG           AR   ARKANSAS   \n",
       "2019  2019-1  2019-01  1-Feb-19        CABG           AZ    ARIZONA   \n",
       "\n",
       "     PTNT_AGE_GRP  CLAIMS  PATIENTS  PHYSICIANS  \n",
       "YEAR                                             \n",
       "2018  80 or older       1         1           1  \n",
       "2019        50-64       2         1           2  \n",
       "2019        50-64       1         1           1  \n",
       "2019        65-79       2         2           1  \n",
       "2019        65-79       3         2           3  "
      ]
     },
     "execution_count": 531,
     "metadata": {},
     "output_type": "execute_result"
    }
   ],
   "source": [
    "surgery_df = surgery_df.sort_values(by=['YEAR','WEEK'], ascending = True)\n",
    "surgery_df.head()"
   ]
  },
  {
   "cell_type": "markdown",
   "id": "respected-bouquet",
   "metadata": {},
   "source": [
    "## Below I'm just grouping by all the fields besides claims, patients, and physicians, and counting the number of individuals in the same group, thereby getting rid of redundant rows. After that I'm saving the new dataset into a revised csv file."
   ]
  },
  {
   "cell_type": "code",
   "execution_count": 532,
   "id": "attempted-philosophy",
   "metadata": {},
   "outputs": [
    {
     "data": {
      "text/html": [
       "<div>\n",
       "<style scoped>\n",
       "    .dataframe tbody tr th:only-of-type {\n",
       "        vertical-align: middle;\n",
       "    }\n",
       "\n",
       "    .dataframe tbody tr th {\n",
       "        vertical-align: top;\n",
       "    }\n",
       "\n",
       "    .dataframe thead th {\n",
       "        text-align: right;\n",
       "    }\n",
       "</style>\n",
       "<table border=\"1\" class=\"dataframe\">\n",
       "  <thead>\n",
       "    <tr style=\"text-align: right;\">\n",
       "      <th></th>\n",
       "      <th></th>\n",
       "      <th></th>\n",
       "      <th></th>\n",
       "      <th></th>\n",
       "      <th></th>\n",
       "      <th></th>\n",
       "      <th></th>\n",
       "      <th>CLAIMS</th>\n",
       "      <th>PATIENTS</th>\n",
       "      <th>PHYSICIANS</th>\n",
       "    </tr>\n",
       "    <tr>\n",
       "      <th>YEAR</th>\n",
       "      <th>QUARTER</th>\n",
       "      <th>MONTH</th>\n",
       "      <th>WEEK</th>\n",
       "      <th>ELECT_PX</th>\n",
       "      <th>PTNT_ST_ABBR</th>\n",
       "      <th>PTNT_STATE</th>\n",
       "      <th>PTNT_AGE_GRP</th>\n",
       "      <th></th>\n",
       "      <th></th>\n",
       "      <th></th>\n",
       "    </tr>\n",
       "  </thead>\n",
       "  <tbody>\n",
       "    <tr>\n",
       "      <th>2018</th>\n",
       "      <th>2018-4</th>\n",
       "      <th>2018-12</th>\n",
       "      <th>4-Jan-19</th>\n",
       "      <th>MASTECTOMY</th>\n",
       "      <th>WI</th>\n",
       "      <th>WISCONSIN</th>\n",
       "      <th>80 or older</th>\n",
       "      <td>1</td>\n",
       "      <td>1</td>\n",
       "      <td>1</td>\n",
       "    </tr>\n",
       "    <tr>\n",
       "      <th rowspan=\"9\" valign=\"top\">2019</th>\n",
       "      <th rowspan=\"9\" valign=\"top\">2019-1</th>\n",
       "      <th rowspan=\"9\" valign=\"top\">2019-01</th>\n",
       "      <th rowspan=\"9\" valign=\"top\">1-Feb-19</th>\n",
       "      <th rowspan=\"9\" valign=\"top\">CABG</th>\n",
       "      <th>AL</th>\n",
       "      <th>ALABAMA</th>\n",
       "      <th>50-64</th>\n",
       "      <td>2</td>\n",
       "      <td>1</td>\n",
       "      <td>2</td>\n",
       "    </tr>\n",
       "    <tr>\n",
       "      <th rowspan=\"2\" valign=\"top\">AR</th>\n",
       "      <th rowspan=\"2\" valign=\"top\">ARKANSAS</th>\n",
       "      <th>50-64</th>\n",
       "      <td>1</td>\n",
       "      <td>1</td>\n",
       "      <td>1</td>\n",
       "    </tr>\n",
       "    <tr>\n",
       "      <th>65-79</th>\n",
       "      <td>2</td>\n",
       "      <td>2</td>\n",
       "      <td>1</td>\n",
       "    </tr>\n",
       "    <tr>\n",
       "      <th>AZ</th>\n",
       "      <th>ARIZONA</th>\n",
       "      <th>65-79</th>\n",
       "      <td>3</td>\n",
       "      <td>2</td>\n",
       "      <td>3</td>\n",
       "    </tr>\n",
       "    <tr>\n",
       "      <th>CA</th>\n",
       "      <th>CALIFORNIA</th>\n",
       "      <th>65-79</th>\n",
       "      <td>5</td>\n",
       "      <td>4</td>\n",
       "      <td>5</td>\n",
       "    </tr>\n",
       "    <tr>\n",
       "      <th>CO</th>\n",
       "      <th>COLORADO</th>\n",
       "      <th>65-79</th>\n",
       "      <td>1</td>\n",
       "      <td>1</td>\n",
       "      <td>1</td>\n",
       "    </tr>\n",
       "    <tr>\n",
       "      <th>CT</th>\n",
       "      <th>CONNECTICUT</th>\n",
       "      <th>50-64</th>\n",
       "      <td>2</td>\n",
       "      <td>1</td>\n",
       "      <td>1</td>\n",
       "    </tr>\n",
       "    <tr>\n",
       "      <th rowspan=\"2\" valign=\"top\">DE</th>\n",
       "      <th rowspan=\"2\" valign=\"top\">DELAWARE</th>\n",
       "      <th>65-79</th>\n",
       "      <td>1</td>\n",
       "      <td>1</td>\n",
       "      <td>1</td>\n",
       "    </tr>\n",
       "    <tr>\n",
       "      <th>80 or older</th>\n",
       "      <td>2</td>\n",
       "      <td>1</td>\n",
       "      <td>2</td>\n",
       "    </tr>\n",
       "  </tbody>\n",
       "</table>\n",
       "</div>"
      ],
      "text/plain": [
       "                                                                                CLAIMS  \\\n",
       "YEAR QUARTER MONTH   WEEK     ELECT_PX   PTNT_ST_ABBR PTNT_STATE  PTNT_AGE_GRP           \n",
       "2018 2018-4  2018-12 4-Jan-19 MASTECTOMY WI           WISCONSIN   80 or older        1   \n",
       "2019 2019-1  2019-01 1-Feb-19 CABG       AL           ALABAMA     50-64              2   \n",
       "                                         AR           ARKANSAS    50-64              1   \n",
       "                                                                  65-79              2   \n",
       "                                         AZ           ARIZONA     65-79              3   \n",
       "                                         CA           CALIFORNIA  65-79              5   \n",
       "                                         CO           COLORADO    65-79              1   \n",
       "                                         CT           CONNECTICUT 50-64              2   \n",
       "                                         DE           DELAWARE    65-79              1   \n",
       "                                                                  80 or older        2   \n",
       "\n",
       "                                                                                PATIENTS  \\\n",
       "YEAR QUARTER MONTH   WEEK     ELECT_PX   PTNT_ST_ABBR PTNT_STATE  PTNT_AGE_GRP             \n",
       "2018 2018-4  2018-12 4-Jan-19 MASTECTOMY WI           WISCONSIN   80 or older          1   \n",
       "2019 2019-1  2019-01 1-Feb-19 CABG       AL           ALABAMA     50-64                1   \n",
       "                                         AR           ARKANSAS    50-64                1   \n",
       "                                                                  65-79                2   \n",
       "                                         AZ           ARIZONA     65-79                2   \n",
       "                                         CA           CALIFORNIA  65-79                4   \n",
       "                                         CO           COLORADO    65-79                1   \n",
       "                                         CT           CONNECTICUT 50-64                1   \n",
       "                                         DE           DELAWARE    65-79                1   \n",
       "                                                                  80 or older          1   \n",
       "\n",
       "                                                                                PHYSICIANS  \n",
       "YEAR QUARTER MONTH   WEEK     ELECT_PX   PTNT_ST_ABBR PTNT_STATE  PTNT_AGE_GRP              \n",
       "2018 2018-4  2018-12 4-Jan-19 MASTECTOMY WI           WISCONSIN   80 or older            1  \n",
       "2019 2019-1  2019-01 1-Feb-19 CABG       AL           ALABAMA     50-64                  2  \n",
       "                                         AR           ARKANSAS    50-64                  1  \n",
       "                                                                  65-79                  1  \n",
       "                                         AZ           ARIZONA     65-79                  3  \n",
       "                                         CA           CALIFORNIA  65-79                  5  \n",
       "                                         CO           COLORADO    65-79                  1  \n",
       "                                         CT           CONNECTICUT 50-64                  1  \n",
       "                                         DE           DELAWARE    65-79                  1  \n",
       "                                                                  80 or older            2  "
      ]
     },
     "execution_count": 532,
     "metadata": {},
     "output_type": "execute_result"
    }
   ],
   "source": [
    "relevant_fields = ['CLAIMS','PATIENTS','PHYSICIANS']\n",
    "surgery_df2 = surgery_df.groupby(['YEAR','QUARTER','MONTH','WEEK','ELECT_PX','PTNT_ST_ABBR','PTNT_STATE','PTNT_AGE_GRP'])[relevant_fields].sum()\n",
    "surgery_df2.head(10)"
   ]
  },
  {
   "cell_type": "code",
   "execution_count": 533,
   "id": "interracial-joseph",
   "metadata": {},
   "outputs": [
    {
     "data": {
      "text/plain": [
       "(135900, 3)"
      ]
     },
     "execution_count": 533,
     "metadata": {},
     "output_type": "execute_result"
    }
   ],
   "source": [
    "surgery_df2.shape"
   ]
  },
  {
   "cell_type": "code",
   "execution_count": 534,
   "id": "associate-whole",
   "metadata": {},
   "outputs": [
    {
     "data": {
      "text/plain": [
       "CLAIMS        0\n",
       "PATIENTS      0\n",
       "PHYSICIANS    0\n",
       "dtype: int64"
      ]
     },
     "execution_count": 534,
     "metadata": {},
     "output_type": "execute_result"
    }
   ],
   "source": [
    "surgery_df2.isna().sum(axis=0)"
   ]
  },
  {
   "cell_type": "code",
   "execution_count": 535,
   "id": "listed-directory",
   "metadata": {},
   "outputs": [
    {
     "data": {
      "text/html": [
       "<div>\n",
       "<style scoped>\n",
       "    .dataframe tbody tr th:only-of-type {\n",
       "        vertical-align: middle;\n",
       "    }\n",
       "\n",
       "    .dataframe tbody tr th {\n",
       "        vertical-align: top;\n",
       "    }\n",
       "\n",
       "    .dataframe thead th {\n",
       "        text-align: right;\n",
       "    }\n",
       "</style>\n",
       "<table border=\"1\" class=\"dataframe\">\n",
       "  <thead>\n",
       "    <tr style=\"text-align: right;\">\n",
       "      <th></th>\n",
       "      <th>YEAR</th>\n",
       "      <th>QUARTER</th>\n",
       "      <th>MONTH</th>\n",
       "      <th>WEEK</th>\n",
       "      <th>ELECT_PX</th>\n",
       "      <th>PTNT_ST_ABBR</th>\n",
       "      <th>PTNT_STATE</th>\n",
       "      <th>PTNT_AGE_GRP</th>\n",
       "      <th>CLAIMS</th>\n",
       "      <th>PATIENTS</th>\n",
       "      <th>PHYSICIANS</th>\n",
       "    </tr>\n",
       "  </thead>\n",
       "  <tbody>\n",
       "    <tr>\n",
       "      <th>0</th>\n",
       "      <td>2018</td>\n",
       "      <td>2018-4</td>\n",
       "      <td>2018-12</td>\n",
       "      <td>4-Jan-19</td>\n",
       "      <td>MASTECTOMY</td>\n",
       "      <td>WI</td>\n",
       "      <td>WISCONSIN</td>\n",
       "      <td>80 or older</td>\n",
       "      <td>1</td>\n",
       "      <td>1</td>\n",
       "      <td>1</td>\n",
       "    </tr>\n",
       "    <tr>\n",
       "      <th>1</th>\n",
       "      <td>2019</td>\n",
       "      <td>2019-1</td>\n",
       "      <td>2019-01</td>\n",
       "      <td>1-Feb-19</td>\n",
       "      <td>CABG</td>\n",
       "      <td>AL</td>\n",
       "      <td>ALABAMA</td>\n",
       "      <td>50-64</td>\n",
       "      <td>2</td>\n",
       "      <td>1</td>\n",
       "      <td>2</td>\n",
       "    </tr>\n",
       "    <tr>\n",
       "      <th>2</th>\n",
       "      <td>2019</td>\n",
       "      <td>2019-1</td>\n",
       "      <td>2019-01</td>\n",
       "      <td>1-Feb-19</td>\n",
       "      <td>CABG</td>\n",
       "      <td>AR</td>\n",
       "      <td>ARKANSAS</td>\n",
       "      <td>50-64</td>\n",
       "      <td>1</td>\n",
       "      <td>1</td>\n",
       "      <td>1</td>\n",
       "    </tr>\n",
       "    <tr>\n",
       "      <th>3</th>\n",
       "      <td>2019</td>\n",
       "      <td>2019-1</td>\n",
       "      <td>2019-01</td>\n",
       "      <td>1-Feb-19</td>\n",
       "      <td>CABG</td>\n",
       "      <td>AR</td>\n",
       "      <td>ARKANSAS</td>\n",
       "      <td>65-79</td>\n",
       "      <td>2</td>\n",
       "      <td>2</td>\n",
       "      <td>1</td>\n",
       "    </tr>\n",
       "    <tr>\n",
       "      <th>4</th>\n",
       "      <td>2019</td>\n",
       "      <td>2019-1</td>\n",
       "      <td>2019-01</td>\n",
       "      <td>1-Feb-19</td>\n",
       "      <td>CABG</td>\n",
       "      <td>AZ</td>\n",
       "      <td>ARIZONA</td>\n",
       "      <td>65-79</td>\n",
       "      <td>3</td>\n",
       "      <td>2</td>\n",
       "      <td>3</td>\n",
       "    </tr>\n",
       "  </tbody>\n",
       "</table>\n",
       "</div>"
      ],
      "text/plain": [
       "   YEAR QUARTER    MONTH      WEEK    ELECT_PX PTNT_ST_ABBR PTNT_STATE  \\\n",
       "0  2018  2018-4  2018-12  4-Jan-19  MASTECTOMY           WI  WISCONSIN   \n",
       "1  2019  2019-1  2019-01  1-Feb-19        CABG           AL    ALABAMA   \n",
       "2  2019  2019-1  2019-01  1-Feb-19        CABG           AR   ARKANSAS   \n",
       "3  2019  2019-1  2019-01  1-Feb-19        CABG           AR   ARKANSAS   \n",
       "4  2019  2019-1  2019-01  1-Feb-19        CABG           AZ    ARIZONA   \n",
       "\n",
       "  PTNT_AGE_GRP  CLAIMS  PATIENTS  PHYSICIANS  \n",
       "0  80 or older       1         1           1  \n",
       "1        50-64       2         1           2  \n",
       "2        50-64       1         1           1  \n",
       "3        65-79       2         2           1  \n",
       "4        65-79       3         2           3  "
      ]
     },
     "execution_count": 535,
     "metadata": {},
     "output_type": "execute_result"
    }
   ],
   "source": [
    "surgery_df2 = surgery_df2.reset_index()\n",
    "surgery_df2.head()"
   ]
  },
  {
   "cell_type": "code",
   "execution_count": 536,
   "id": "second-platinum",
   "metadata": {},
   "outputs": [
    {
     "data": {
      "text/plain": [
       "(135900, 11)"
      ]
     },
     "execution_count": 536,
     "metadata": {},
     "output_type": "execute_result"
    }
   ],
   "source": [
    "surgery_df2.shape"
   ]
  },
  {
   "cell_type": "code",
   "execution_count": 537,
   "id": "naked-denmark",
   "metadata": {},
   "outputs": [
    {
     "name": "stdout",
     "output_type": "stream",
     "text": [
      "['ALABAMA', 'ALASKA', 'ARIZONA', 'ARKANSAS', 'ARMED FORCES:  AREA EUROPE', 'ARMED FORCES:  AREA PACIFIC', 'ARMED FORCES:  THE AMERICAS', 'CALIFORNIA', 'COLORADO', 'CONNECTICUT', 'DELAWARE', 'DISTRICT OF COLUMBIA', 'FLORIDA', 'GEORGIA', 'GUAM', 'HAWAII', 'IDAHO', 'ILLINOIS', 'INDIANA', 'IOWA', 'KANSAS', 'KENTUCKY', 'LOUISIANA', 'MAINE', 'MARYLAND', 'MASSACHUSETTS', 'MICHIGAN', 'MINNESOTA', 'MISSISSIPPI', 'MISSOURI', 'MONTANA', 'NEBRASKA', 'NEVADA', 'NEW HAMPSHIRE', 'NEW JERSEY', 'NEW MEXICO', 'NEW YORK', 'NORTH CAROLINA', 'NORTH DAKOTA', 'OHIO', 'OKLAHOMA', 'OREGON', 'PENNSYLVANIA', 'PUERTO RICO', 'RHODE ISLAND', 'SOUTH CAROLINA', 'SOUTH DAKOTA', 'TENNESSEE', 'TEXAS', 'UNKNOWN', 'UTAH', 'VERMONT', 'VIRGIN ISLANDS', 'VIRGINIA', 'WASHINGTON', 'WEST VIRGINIA', 'WISCONSIN', 'WYOMING']\n"
     ]
    }
   ],
   "source": [
    "print(sorted(surgery_df2['PTNT_STATE'].unique()))"
   ]
  },
  {
   "cell_type": "code",
   "execution_count": 538,
   "id": "accompanied-spotlight",
   "metadata": {},
   "outputs": [
    {
     "data": {
      "text/plain": [
       "array(['WI', 'AL', 'AR', 'AZ', 'CA', 'CO', 'CT', 'DE', 'FL', 'GA', 'IA',\n",
       "       'IL', 'IN', 'KS', 'KY', 'LA', 'MA', 'ME', 'MI', 'MN', 'MO', 'MS',\n",
       "       'ND', 'NE', 'NH', 'NJ', 'NV', 'NY', 'OH', 'OK', 'OR', 'PA', 'SC',\n",
       "       'TN', 'TX', 'UNK', 'VA', 'VT', 'WA', 'AK', 'DC', 'GU', 'HI', 'ID',\n",
       "       'MD', 'MT', 'NC', 'NM', 'PR', 'RI', 'SD', 'UT', 'VI', 'WV', 'WY',\n",
       "       'ZZ', 'AP', 'AE', 'AA'], dtype=object)"
      ]
     },
     "execution_count": 538,
     "metadata": {},
     "output_type": "execute_result"
    }
   ],
   "source": [
    "surgery_df2['PTNT_ST_ABBR'].unique()"
   ]
  },
  {
   "cell_type": "code",
   "execution_count": 539,
   "id": "practical-interaction",
   "metadata": {},
   "outputs": [
    {
     "name": "stdout",
     "output_type": "stream",
     "text": [
      "58\n",
      "59\n"
     ]
    }
   ],
   "source": [
    "print(len(surgery_df2['PTNT_STATE'].unique()))\n",
    "print(len(surgery_df2['PTNT_ST_ABBR'].unique()))"
   ]
  },
  {
   "cell_type": "markdown",
   "id": "dirty-desperate",
   "metadata": {},
   "source": [
    "## As can be seen in the above list of unique labels from the State column, there are a number of non-state entries, like Armed Forces: Area Pacific and District of Columbia. The total amount of unique labels for full state names is 58, which means we need to remove rows with 8 different non-state entries. There are also 59 unique labels for the state abbreviations, so there'll be at least one extra non-state abbreviation.\n",
    "\n",
    "## Considering that some of the non-state labels are not even in America, like the Armed Forces labels, we can also not assume that the Unknown label is American data. For that reason, we'll remove it too, so that we can focus on data only from the US."
   ]
  },
  {
   "cell_type": "code",
   "execution_count": 540,
   "id": "cleared-wright",
   "metadata": {},
   "outputs": [],
   "source": [
    "non_states = ['ARMED FORCES:  THE AMERICAS', 'ARMED FORCES:  AREA PACIFIC', \n",
    "              'ARMED FORCES:  AREA EUROPE', 'UNKNOWN', 'DISTRICT OF COLUMBIA',\n",
    "              'GUAM', 'PUERTO RICO', 'VIRGIN ISLANDS']\n",
    "non_state_filter = ((surgery_df2['PTNT_STATE'] != 'ARMED FORCES:  THE AMERICAS') \n",
    "                    & (surgery_df2['PTNT_STATE'] != 'ARMED FORCES:  AREA PACIFIC') \n",
    "                    & (surgery_df2['PTNT_STATE'] != 'ARMED FORCES:  AREA EUROPE') \n",
    "                    & (surgery_df2['PTNT_STATE'] != 'UNKNOWN') \n",
    "                    & (surgery_df2['PTNT_STATE'] != 'DISTRICT OF COLUMBIA') \n",
    "                    & (surgery_df2['PTNT_STATE'] != 'GUAM')\n",
    "                    & (surgery_df2['PTNT_STATE'] != 'PUERTO RICO') \n",
    "                    & (surgery_df2['PTNT_STATE'] != 'VIRGIN ISLANDS'))\n",
    "surgery_df2 = surgery_df2[non_state_filter]\n",
    "#surgery_df2['PTNT_STATE'] == non_states\n",
    "# surgery_df2 = surgery_df2[non_state_filter]"
   ]
  },
  {
   "cell_type": "code",
   "execution_count": 541,
   "id": "excessive-division",
   "metadata": {},
   "outputs": [
    {
     "name": "stdout",
     "output_type": "stream",
     "text": [
      "50\n",
      "50\n"
     ]
    }
   ],
   "source": [
    "print(len(surgery_df2['PTNT_STATE'].unique()))\n",
    "print(len(surgery_df2['PTNT_ST_ABBR'].unique()))"
   ]
  },
  {
   "cell_type": "markdown",
   "id": "educational-world",
   "metadata": {},
   "source": [
    "### Looks like we managed to get rid of the extra non-state abbreviation in the process of removing the rows with non-state labels, so no need to clean this dataset any further."
   ]
  },
  {
   "cell_type": "code",
   "execution_count": 542,
   "id": "structured-enzyme",
   "metadata": {},
   "outputs": [],
   "source": [
    "surgery_df2.to_csv('revised_surgery_dataset.csv', index=False)"
   ]
  },
  {
   "cell_type": "markdown",
   "id": "every-decade",
   "metadata": {},
   "source": [
    "## Done cleaning Surgery dataset, below I'll clean the state and restrictions dataset."
   ]
  },
  {
   "cell_type": "code",
   "execution_count": 543,
   "id": "appointed-badge",
   "metadata": {},
   "outputs": [
    {
     "data": {
      "text/html": [
       "<div>\n",
       "<style scoped>\n",
       "    .dataframe tbody tr th:only-of-type {\n",
       "        vertical-align: middle;\n",
       "    }\n",
       "\n",
       "    .dataframe tbody tr th {\n",
       "        vertical-align: top;\n",
       "    }\n",
       "\n",
       "    .dataframe thead th {\n",
       "        text-align: right;\n",
       "    }\n",
       "</style>\n",
       "<table border=\"1\" class=\"dataframe\">\n",
       "  <thead>\n",
       "    <tr style=\"text-align: right;\">\n",
       "      <th></th>\n",
       "      <th>DIAG_DESC</th>\n",
       "      <th>PAT_AGE_TIER</th>\n",
       "      <th>PAT_STATE</th>\n",
       "      <th>WEEK</th>\n",
       "      <th>CLAIMS</th>\n",
       "      <th>PATIENTS</th>\n",
       "      <th>PHYSICIANS</th>\n",
       "    </tr>\n",
       "    <tr>\n",
       "      <th>DIAG_CODE</th>\n",
       "      <th></th>\n",
       "      <th></th>\n",
       "      <th></th>\n",
       "      <th></th>\n",
       "      <th></th>\n",
       "      <th></th>\n",
       "      <th></th>\n",
       "    </tr>\n",
       "  </thead>\n",
       "  <tbody>\n",
       "    <tr>\n",
       "      <th>U07.1</th>\n",
       "      <td>COVID-19</td>\n",
       "      <td>65+</td>\n",
       "      <td>NY</td>\n",
       "      <td>20200417.0</td>\n",
       "      <td>25,462</td>\n",
       "      <td>10,371</td>\n",
       "      <td>7,005</td>\n",
       "    </tr>\n",
       "    <tr>\n",
       "      <th>U07.1</th>\n",
       "      <td>COVID-19</td>\n",
       "      <td>65+</td>\n",
       "      <td>NY</td>\n",
       "      <td>20200501.0</td>\n",
       "      <td>24,352</td>\n",
       "      <td>10,731</td>\n",
       "      <td>6,911</td>\n",
       "    </tr>\n",
       "    <tr>\n",
       "      <th>U07.1</th>\n",
       "      <td>COVID-19</td>\n",
       "      <td>65+</td>\n",
       "      <td>NY</td>\n",
       "      <td>20200410.0</td>\n",
       "      <td>24,152</td>\n",
       "      <td>10,170</td>\n",
       "      <td>6,615</td>\n",
       "    </tr>\n",
       "    <tr>\n",
       "      <th>U07.1</th>\n",
       "      <td>COVID-19</td>\n",
       "      <td>65+</td>\n",
       "      <td>NY</td>\n",
       "      <td>20200424.0</td>\n",
       "      <td>24,325</td>\n",
       "      <td>10,007</td>\n",
       "      <td>6,984</td>\n",
       "    </tr>\n",
       "    <tr>\n",
       "      <th>U07.1</th>\n",
       "      <td>COVID-19</td>\n",
       "      <td>65+</td>\n",
       "      <td>FL</td>\n",
       "      <td>20200724.0</td>\n",
       "      <td>21,483</td>\n",
       "      <td>8,599</td>\n",
       "      <td>5,264</td>\n",
       "    </tr>\n",
       "  </tbody>\n",
       "</table>\n",
       "</div>"
      ],
      "text/plain": [
       "          DIAG_DESC PAT_AGE_TIER PAT_STATE        WEEK  CLAIMS PATIENTS  \\\n",
       "DIAG_CODE                                                                 \n",
       "U07.1      COVID-19          65+        NY  20200417.0  25,462   10,371   \n",
       "U07.1      COVID-19          65+        NY  20200501.0  24,352   10,731   \n",
       "U07.1      COVID-19          65+        NY  20200410.0  24,152   10,170   \n",
       "U07.1      COVID-19          65+        NY  20200424.0  24,325   10,007   \n",
       "U07.1      COVID-19          65+        FL  20200724.0  21,483    8,599   \n",
       "\n",
       "          PHYSICIANS  \n",
       "DIAG_CODE             \n",
       "U07.1          7,005  \n",
       "U07.1          6,911  \n",
       "U07.1          6,615  \n",
       "U07.1          6,984  \n",
       "U07.1          5,264  "
      ]
     },
     "execution_count": 543,
     "metadata": {},
     "output_type": "execute_result"
    }
   ],
   "source": [
    "state_df.head()"
   ]
  },
  {
   "cell_type": "code",
   "execution_count": 544,
   "id": "patient-complaint",
   "metadata": {},
   "outputs": [
    {
     "data": {
      "text/plain": [
       "(12749, 7)"
      ]
     },
     "execution_count": 544,
     "metadata": {},
     "output_type": "execute_result"
    }
   ],
   "source": [
    "state_df.shape"
   ]
  },
  {
   "cell_type": "code",
   "execution_count": 545,
   "id": "right-therapy",
   "metadata": {},
   "outputs": [
    {
     "data": {
      "text/plain": [
       "DIAG_DESC       2683\n",
       "PAT_AGE_TIER    2683\n",
       "PAT_STATE       2683\n",
       "WEEK            2683\n",
       "CLAIMS          2683\n",
       "PATIENTS        2683\n",
       "PHYSICIANS      2683\n",
       "dtype: int64"
      ]
     },
     "execution_count": 545,
     "metadata": {},
     "output_type": "execute_result"
    }
   ],
   "source": [
    "state_df.isna().sum(axis=0)"
   ]
  },
  {
   "cell_type": "markdown",
   "id": "advised-samoa",
   "metadata": {},
   "source": [
    "## Looks like the null values in the DX dataset are empty rows, like the one below. "
   ]
  },
  {
   "cell_type": "code",
   "execution_count": 546,
   "id": "local-variance",
   "metadata": {},
   "outputs": [
    {
     "data": {
      "text/plain": [
       "DIAG_DESC       NaN\n",
       "PAT_AGE_TIER    NaN\n",
       "PAT_STATE       NaN\n",
       "WEEK            NaN\n",
       "CLAIMS          NaN\n",
       "PATIENTS        NaN\n",
       "PHYSICIANS      NaN\n",
       "Name: nan, dtype: object"
      ]
     },
     "execution_count": 546,
     "metadata": {},
     "output_type": "execute_result"
    }
   ],
   "source": [
    "state_df.iloc[1101]"
   ]
  },
  {
   "cell_type": "markdown",
   "id": "protective-insurance",
   "metadata": {},
   "source": [
    "## Removing empty rows and saving new dataset to csv file."
   ]
  },
  {
   "cell_type": "code",
   "execution_count": 547,
   "id": "private-belize",
   "metadata": {},
   "outputs": [
    {
     "name": "stdout",
     "output_type": "stream",
     "text": [
      "(10066, 7)\n"
     ]
    },
    {
     "data": {
      "text/plain": [
       "DIAG_DESC       0\n",
       "PAT_AGE_TIER    0\n",
       "PAT_STATE       0\n",
       "WEEK            0\n",
       "CLAIMS          0\n",
       "PATIENTS        0\n",
       "PHYSICIANS      0\n",
       "dtype: int64"
      ]
     },
     "execution_count": 547,
     "metadata": {},
     "output_type": "execute_result"
    }
   ],
   "source": [
    "state_df2 = state_df.dropna(axis=0)\n",
    "print(state_df2.shape)\n",
    "state_df2.isnull().sum(axis=0)"
   ]
  },
  {
   "cell_type": "code",
   "execution_count": 548,
   "id": "complete-border",
   "metadata": {},
   "outputs": [],
   "source": [
    "state_df2.to_csv('revised_dx_dataset.csv', index=False)"
   ]
  },
  {
   "cell_type": "markdown",
   "id": "undefined-friendly",
   "metadata": {},
   "source": [
    "## Sorting the restriction dataset by rank, going from highest restrictions to lowest."
   ]
  },
  {
   "cell_type": "code",
   "execution_count": 581,
   "id": "solid-journalist",
   "metadata": {},
   "outputs": [
    {
     "data": {
      "text/html": [
       "<div>\n",
       "<style scoped>\n",
       "    .dataframe tbody tr th:only-of-type {\n",
       "        vertical-align: middle;\n",
       "    }\n",
       "\n",
       "    .dataframe tbody tr th {\n",
       "        vertical-align: top;\n",
       "    }\n",
       "\n",
       "    .dataframe thead th {\n",
       "        text-align: right;\n",
       "    }\n",
       "</style>\n",
       "<table border=\"1\" class=\"dataframe\">\n",
       "  <thead>\n",
       "    <tr style=\"text-align: right;\">\n",
       "      <th></th>\n",
       "      <th>RANK RESTR</th>\n",
       "      <th>SCORE RESTR</th>\n",
       "    </tr>\n",
       "    <tr>\n",
       "      <th>State</th>\n",
       "      <th></th>\n",
       "      <th></th>\n",
       "    </tr>\n",
       "  </thead>\n",
       "  <tbody>\n",
       "    <tr>\n",
       "      <th>SD</th>\n",
       "      <td>1</td>\n",
       "      <td>83.93</td>\n",
       "    </tr>\n",
       "    <tr>\n",
       "      <th>ID</th>\n",
       "      <td>2</td>\n",
       "      <td>81.40</td>\n",
       "    </tr>\n",
       "    <tr>\n",
       "      <th>UT</th>\n",
       "      <td>3</td>\n",
       "      <td>80.09</td>\n",
       "    </tr>\n",
       "    <tr>\n",
       "      <th>OK</th>\n",
       "      <td>4</td>\n",
       "      <td>75.89</td>\n",
       "    </tr>\n",
       "    <tr>\n",
       "      <th>IA</th>\n",
       "      <td>5</td>\n",
       "      <td>75.48</td>\n",
       "    </tr>\n",
       "  </tbody>\n",
       "</table>\n",
       "</div>"
      ],
      "text/plain": [
       "       RANK RESTR  SCORE RESTR\n",
       "State                         \n",
       "SD              1        83.93\n",
       "ID              2        81.40\n",
       "UT              3        80.09\n",
       "OK              4        75.89\n",
       "IA              5        75.48"
      ]
     },
     "execution_count": 581,
     "metadata": {},
     "output_type": "execute_result"
    }
   ],
   "source": [
    "restrictions_df = restrictions_df.sort_values(by = 'RANK RESTR', ascending = True)\n",
    "restrictions_df.head()"
   ]
  },
  {
   "cell_type": "code",
   "execution_count": 582,
   "id": "settled-chair",
   "metadata": {},
   "outputs": [
    {
     "data": {
      "text/plain": [
       "50"
      ]
     },
     "execution_count": 582,
     "metadata": {},
     "output_type": "execute_result"
    }
   ],
   "source": [
    "restrictions_df = restrictions_df.drop('DC')\n",
    "len(restrictions_df.index.unique())"
   ]
  },
  {
   "cell_type": "markdown",
   "id": "median-variation",
   "metadata": {},
   "source": [
    "# Step 2 - Statistical Analysis and Data Visualization"
   ]
  },
  {
   "cell_type": "markdown",
   "id": "hourly-vietnamese",
   "metadata": {},
   "source": [
    "## Elective Surgeries visualization"
   ]
  },
  {
   "cell_type": "code",
   "execution_count": 550,
   "id": "usual-cheat",
   "metadata": {},
   "outputs": [
    {
     "data": {
      "text/html": [
       "<div>\n",
       "<style scoped>\n",
       "    .dataframe tbody tr th:only-of-type {\n",
       "        vertical-align: middle;\n",
       "    }\n",
       "\n",
       "    .dataframe tbody tr th {\n",
       "        vertical-align: top;\n",
       "    }\n",
       "\n",
       "    .dataframe thead th {\n",
       "        text-align: right;\n",
       "    }\n",
       "</style>\n",
       "<table border=\"1\" class=\"dataframe\">\n",
       "  <thead>\n",
       "    <tr style=\"text-align: right;\">\n",
       "      <th></th>\n",
       "      <th></th>\n",
       "      <th>CLAIMS</th>\n",
       "      <th>PATIENTS</th>\n",
       "      <th>PHYSICIANS</th>\n",
       "    </tr>\n",
       "    <tr>\n",
       "      <th>YEAR</th>\n",
       "      <th>ELECT_PX</th>\n",
       "      <th></th>\n",
       "      <th></th>\n",
       "      <th></th>\n",
       "    </tr>\n",
       "  </thead>\n",
       "  <tbody>\n",
       "    <tr>\n",
       "      <th>2018</th>\n",
       "      <th>MASTECTOMY</th>\n",
       "      <td>1</td>\n",
       "      <td>1</td>\n",
       "      <td>1</td>\n",
       "    </tr>\n",
       "    <tr>\n",
       "      <th rowspan=\"4\" valign=\"top\">2019</th>\n",
       "      <th>CABG</th>\n",
       "      <td>3753</td>\n",
       "      <td>2409</td>\n",
       "      <td>3269</td>\n",
       "    </tr>\n",
       "    <tr>\n",
       "      <th>CATARACT</th>\n",
       "      <td>1143929</td>\n",
       "      <td>875747</td>\n",
       "      <td>419348</td>\n",
       "    </tr>\n",
       "    <tr>\n",
       "      <th>CHOLECYSTECTOMY</th>\n",
       "      <td>276657</td>\n",
       "      <td>203879</td>\n",
       "      <td>206642</td>\n",
       "    </tr>\n",
       "    <tr>\n",
       "      <th>COSMETIC RECONSTRUCTION</th>\n",
       "      <td>796</td>\n",
       "      <td>688</td>\n",
       "      <td>671</td>\n",
       "    </tr>\n",
       "  </tbody>\n",
       "</table>\n",
       "</div>"
      ],
      "text/plain": [
       "                               CLAIMS  PATIENTS  PHYSICIANS\n",
       "YEAR ELECT_PX                                              \n",
       "2018 MASTECTOMY                     1         1           1\n",
       "2019 CABG                        3753      2409        3269\n",
       "     CATARACT                 1143929    875747      419348\n",
       "     CHOLECYSTECTOMY           276657    203879      206642\n",
       "     COSMETIC RECONSTRUCTION      796       688         671"
      ]
     },
     "execution_count": 550,
     "metadata": {},
     "output_type": "execute_result"
    }
   ],
   "source": [
    "relevant_fields = ['CLAIMS','PATIENTS','PHYSICIANS']\n",
    "yearly_surgeries_df = surgery_df2.groupby(['YEAR','ELECT_PX'])[relevant_fields].sum()\n",
    "yearly_surgeries_df.head()"
   ]
  },
  {
   "cell_type": "code",
   "execution_count": 551,
   "id": "arabic-portal",
   "metadata": {},
   "outputs": [
    {
     "data": {
      "text/html": [
       "<div>\n",
       "<style scoped>\n",
       "    .dataframe tbody tr th:only-of-type {\n",
       "        vertical-align: middle;\n",
       "    }\n",
       "\n",
       "    .dataframe tbody tr th {\n",
       "        vertical-align: top;\n",
       "    }\n",
       "\n",
       "    .dataframe thead th {\n",
       "        text-align: right;\n",
       "    }\n",
       "</style>\n",
       "<table border=\"1\" class=\"dataframe\">\n",
       "  <thead>\n",
       "    <tr style=\"text-align: right;\">\n",
       "      <th></th>\n",
       "      <th>YEAR</th>\n",
       "      <th>ELECT_PX</th>\n",
       "      <th>CLAIMS</th>\n",
       "      <th>PATIENTS</th>\n",
       "      <th>PHYSICIANS</th>\n",
       "    </tr>\n",
       "  </thead>\n",
       "  <tbody>\n",
       "    <tr>\n",
       "      <th>0</th>\n",
       "      <td>2018</td>\n",
       "      <td>MASTECTOMY</td>\n",
       "      <td>1</td>\n",
       "      <td>1</td>\n",
       "      <td>1</td>\n",
       "    </tr>\n",
       "    <tr>\n",
       "      <th>1</th>\n",
       "      <td>2019</td>\n",
       "      <td>CABG</td>\n",
       "      <td>3753</td>\n",
       "      <td>2409</td>\n",
       "      <td>3269</td>\n",
       "    </tr>\n",
       "    <tr>\n",
       "      <th>2</th>\n",
       "      <td>2019</td>\n",
       "      <td>CATARACT</td>\n",
       "      <td>1143929</td>\n",
       "      <td>875747</td>\n",
       "      <td>419348</td>\n",
       "    </tr>\n",
       "    <tr>\n",
       "      <th>3</th>\n",
       "      <td>2019</td>\n",
       "      <td>CHOLECYSTECTOMY</td>\n",
       "      <td>276657</td>\n",
       "      <td>203879</td>\n",
       "      <td>206642</td>\n",
       "    </tr>\n",
       "    <tr>\n",
       "      <th>4</th>\n",
       "      <td>2019</td>\n",
       "      <td>COSMETIC RECONSTRUCTION</td>\n",
       "      <td>796</td>\n",
       "      <td>688</td>\n",
       "      <td>671</td>\n",
       "    </tr>\n",
       "  </tbody>\n",
       "</table>\n",
       "</div>"
      ],
      "text/plain": [
       "   YEAR                 ELECT_PX   CLAIMS  PATIENTS  PHYSICIANS\n",
       "0  2018               MASTECTOMY        1         1           1\n",
       "1  2019                     CABG     3753      2409        3269\n",
       "2  2019                 CATARACT  1143929    875747      419348\n",
       "3  2019          CHOLECYSTECTOMY   276657    203879      206642\n",
       "4  2019  COSMETIC RECONSTRUCTION      796       688         671"
      ]
     },
     "execution_count": 551,
     "metadata": {},
     "output_type": "execute_result"
    }
   ],
   "source": [
    "yearly_surgeries_df = yearly_surgeries_df.reset_index()\n",
    "yearly_surgeries_df.head()"
   ]
  },
  {
   "cell_type": "markdown",
   "id": "lucky-grenada",
   "metadata": {},
   "source": [
    "Ignoring 2018 data in the next visualization as there is only data point."
   ]
  },
  {
   "cell_type": "code",
   "execution_count": 772,
   "id": "conscious-immune",
   "metadata": {},
   "outputs": [
    {
     "data": {
      "image/png": "[encoded data removed]",
      "text/plain": [
       "<Figure size 1440x720 with 1 Axes>"
      ]
     },
     "metadata": {
      "needs_background": "light"
     },
     "output_type": "display_data"
    }
   ],
   "source": [
    "surgery_types = yearly_surgeries_df['ELECT_PX'][1:11].values.tolist()\n",
    "\n",
    "surgeries_2019 = yearly_surgeries_df[yearly_surgeries_df['YEAR'] == 2019]['PATIENTS'].values.tolist()\n",
    "surgeries_2020 = yearly_surgeries_df[yearly_surgeries_df['YEAR'] == 2020]['PATIENTS'].values.tolist()\n",
    "\n",
    "x = np.arange(len(surgery_types))\n",
    "width = 0.4\n",
    "\n",
    "fig, ax = plt.subplots(figsize = (20, 10))\n",
    "rects1 = ax.bar(x - width/2, surgeries_2019, width, label='2019')\n",
    "rects2 = ax.bar(x + width/2, surgeries_2020, width, label='2020')\n",
    "\n",
    "ax.set_ylabel('# of Patients', fontsize = 25)\n",
    "ax.set_xlabel('Type of Elective Surgery', fontsize = 25)\n",
    "ax.set_title('Elective Surgeries performed each year', fontsize = 35)\n",
    "ax.set_xticks(x)\n",
    "ax.set_yticks(range(0, 900000, 100000))\n",
    "ax.set_xticklabels(surgery_types, rotation = \"vertical\", fontsize = 20)\n",
    "ax.tick_params(axis = 'y', labelsize = 16)\n",
    "ax.legend(fontsize = 30)\n",
    "\n",
    "def autolabel(rects):\n",
    "    for rect in rects:\n",
    "        height = rect.get_height()\n",
    "        ax.text(rect.get_x()+rect.get_width()/2, 1.005*height, '%d'%int(height),\n",
    "                ha='center', va='bottom', fontsize = 11)\n",
    "autolabel(rects1)\n",
    "autolabel(rects2)\n",
    "\n",
    "plt.show()"
   ]
  },
  {
   "cell_type": "markdown",
   "id": "approximate-capital",
   "metadata": {},
   "source": [
    "### Based on the above plot, we can see that the surgeries performed in 2019 and 2020 were not equally impacted by the coming of the pandemic. Cataract and CABG surgeries were most significantly impacted (a decrease in surgeries performed of about 30%), with other surgeries being affected significantly but to a lesser degree (like cystoscopies), and still other surgeries with no significant difference between 2019 and 2020 (like hip replacements and prostatectomy). \n",
    "\n",
    "### One hypothesis as to why there is such a difference between the impact of the pandemic on different types of surgeries is that patients were less willing to have arguably less essential elective surgeries (like cataract surgery) while they were equally willing to address more life-threatening issues by having more essential surgeries like mastectomies and prostatectomies. This hypothesis would however have to be further researched, and each surgery ranked based on a clinically-recognized level of priority. \n",
    "\n",
    "### Since there isn't a distinction made in this plot between pre-pandemic and mid-pandemic surgeries, due to the pandemic officially starting 3 months into 2020, we have to slightly adjust the data used to make this plot in order to better reflect the impact the pandemic made on surgeries performed. \n",
    "\n",
    "### To keep the comparison fair, we'll have to compare surgeries over a similar time period, as the number of surgeries in a significantly longer time period would be significantly larger. Also, to account for any potential impact that the time of the year and season have on the surgeries that patients get (for example, if more people get doctor's appointments soon after New Year's day and learn about surgeries they need because of that), we will compare over the same period of the year between pre- and mid-pandemic data. Since we only have mid-pandemic data from March to August of 2020, we'll only compare that against data from March to August of 2019."
   ]
  },
  {
   "cell_type": "code",
   "execution_count": 553,
   "id": "insured-oasis",
   "metadata": {},
   "outputs": [
    {
     "data": {
      "text/html": [
       "<div>\n",
       "<style scoped>\n",
       "    .dataframe tbody tr th:only-of-type {\n",
       "        vertical-align: middle;\n",
       "    }\n",
       "\n",
       "    .dataframe tbody tr th {\n",
       "        vertical-align: top;\n",
       "    }\n",
       "\n",
       "    .dataframe thead th {\n",
       "        text-align: right;\n",
       "    }\n",
       "</style>\n",
       "<table border=\"1\" class=\"dataframe\">\n",
       "  <thead>\n",
       "    <tr style=\"text-align: right;\">\n",
       "      <th></th>\n",
       "      <th></th>\n",
       "      <th></th>\n",
       "      <th>CLAIMS</th>\n",
       "      <th>PATIENTS</th>\n",
       "      <th>PHYSICIANS</th>\n",
       "    </tr>\n",
       "    <tr>\n",
       "      <th>YEAR</th>\n",
       "      <th>MONTH</th>\n",
       "      <th>ELECT_PX</th>\n",
       "      <th></th>\n",
       "      <th></th>\n",
       "      <th></th>\n",
       "    </tr>\n",
       "  </thead>\n",
       "  <tbody>\n",
       "    <tr>\n",
       "      <th>2018</th>\n",
       "      <th>2018-12</th>\n",
       "      <th>MASTECTOMY</th>\n",
       "      <td>1</td>\n",
       "      <td>1</td>\n",
       "      <td>1</td>\n",
       "    </tr>\n",
       "    <tr>\n",
       "      <th rowspan=\"4\" valign=\"top\">2019</th>\n",
       "      <th rowspan=\"4\" valign=\"top\">2019-01</th>\n",
       "      <th>CABG</th>\n",
       "      <td>578</td>\n",
       "      <td>371</td>\n",
       "      <td>506</td>\n",
       "    </tr>\n",
       "    <tr>\n",
       "      <th>CATARACT</th>\n",
       "      <td>161860</td>\n",
       "      <td>123915</td>\n",
       "      <td>60117</td>\n",
       "    </tr>\n",
       "    <tr>\n",
       "      <th>CHOLECYSTECTOMY</th>\n",
       "      <td>41163</td>\n",
       "      <td>30140</td>\n",
       "      <td>30652</td>\n",
       "    </tr>\n",
       "    <tr>\n",
       "      <th>COSMETIC RECONSTRUCTION</th>\n",
       "      <td>124</td>\n",
       "      <td>106</td>\n",
       "      <td>106</td>\n",
       "    </tr>\n",
       "  </tbody>\n",
       "</table>\n",
       "</div>"
      ],
      "text/plain": [
       "                                      CLAIMS  PATIENTS  PHYSICIANS\n",
       "YEAR MONTH   ELECT_PX                                             \n",
       "2018 2018-12 MASTECTOMY                    1         1           1\n",
       "2019 2019-01 CABG                        578       371         506\n",
       "             CATARACT                 161860    123915       60117\n",
       "             CHOLECYSTECTOMY           41163     30140       30652\n",
       "             COSMETIC RECONSTRUCTION     124       106         106"
      ]
     },
     "execution_count": 553,
     "metadata": {},
     "output_type": "execute_result"
    }
   ],
   "source": [
    "relevant_fields = ['CLAIMS','PATIENTS','PHYSICIANS']\n",
    "pandemic_surgeries_df = surgery_df2.groupby(['YEAR','MONTH','ELECT_PX'])[relevant_fields].sum()\n",
    "pandemic_surgeries_df.head()"
   ]
  },
  {
   "cell_type": "code",
   "execution_count": 554,
   "id": "attached-reference",
   "metadata": {},
   "outputs": [
    {
     "data": {
      "text/html": [
       "<div>\n",
       "<style scoped>\n",
       "    .dataframe tbody tr th:only-of-type {\n",
       "        vertical-align: middle;\n",
       "    }\n",
       "\n",
       "    .dataframe tbody tr th {\n",
       "        vertical-align: top;\n",
       "    }\n",
       "\n",
       "    .dataframe thead th {\n",
       "        text-align: right;\n",
       "    }\n",
       "</style>\n",
       "<table border=\"1\" class=\"dataframe\">\n",
       "  <thead>\n",
       "    <tr style=\"text-align: right;\">\n",
       "      <th></th>\n",
       "      <th></th>\n",
       "      <th></th>\n",
       "      <th>CLAIMS</th>\n",
       "      <th>PATIENTS</th>\n",
       "      <th>PHYSICIANS</th>\n",
       "    </tr>\n",
       "    <tr>\n",
       "      <th>YEAR</th>\n",
       "      <th>MONTH</th>\n",
       "      <th>ELECT_PX</th>\n",
       "      <th></th>\n",
       "      <th></th>\n",
       "      <th></th>\n",
       "    </tr>\n",
       "  </thead>\n",
       "  <tbody>\n",
       "    <tr>\n",
       "      <th rowspan=\"20\" valign=\"top\">2019</th>\n",
       "      <th rowspan=\"10\" valign=\"top\">2019-03</th>\n",
       "      <th>CABG</th>\n",
       "      <td>490</td>\n",
       "      <td>314</td>\n",
       "      <td>424</td>\n",
       "    </tr>\n",
       "    <tr>\n",
       "      <th>CATARACT</th>\n",
       "      <td>152419</td>\n",
       "      <td>116246</td>\n",
       "      <td>55594</td>\n",
       "    </tr>\n",
       "    <tr>\n",
       "      <th>CHOLECYSTECTOMY</th>\n",
       "      <td>39036</td>\n",
       "      <td>28707</td>\n",
       "      <td>29054</td>\n",
       "    </tr>\n",
       "    <tr>\n",
       "      <th>COSMETIC RECONSTRUCTION</th>\n",
       "      <td>108</td>\n",
       "      <td>100</td>\n",
       "      <td>94</td>\n",
       "    </tr>\n",
       "    <tr>\n",
       "      <th>CYSTOSCOPY</th>\n",
       "      <td>68583</td>\n",
       "      <td>59367</td>\n",
       "      <td>42983</td>\n",
       "    </tr>\n",
       "    <tr>\n",
       "      <th>HIP REPLACEMENT</th>\n",
       "      <td>17580</td>\n",
       "      <td>10990</td>\n",
       "      <td>13110</td>\n",
       "    </tr>\n",
       "    <tr>\n",
       "      <th>HYSTEROSCOPY</th>\n",
       "      <td>21067</td>\n",
       "      <td>17356</td>\n",
       "      <td>15513</td>\n",
       "    </tr>\n",
       "    <tr>\n",
       "      <th>KNEE REPLACEMENT</th>\n",
       "      <td>33261</td>\n",
       "      <td>21671</td>\n",
       "      <td>23670</td>\n",
       "    </tr>\n",
       "    <tr>\n",
       "      <th>MASTECTOMY</th>\n",
       "      <td>15740</td>\n",
       "      <td>12039</td>\n",
       "      <td>10953</td>\n",
       "    </tr>\n",
       "    <tr>\n",
       "      <th>PROSTATECTOMY</th>\n",
       "      <td>3503</td>\n",
       "      <td>2548</td>\n",
       "      <td>2716</td>\n",
       "    </tr>\n",
       "    <tr>\n",
       "      <th rowspan=\"10\" valign=\"top\">2019-04</th>\n",
       "      <th>CABG</th>\n",
       "      <td>580</td>\n",
       "      <td>368</td>\n",
       "      <td>501</td>\n",
       "    </tr>\n",
       "    <tr>\n",
       "      <th>CATARACT</th>\n",
       "      <td>170110</td>\n",
       "      <td>129741</td>\n",
       "      <td>62455</td>\n",
       "    </tr>\n",
       "    <tr>\n",
       "      <th>CHOLECYSTECTOMY</th>\n",
       "      <td>38835</td>\n",
       "      <td>28610</td>\n",
       "      <td>29025</td>\n",
       "    </tr>\n",
       "    <tr>\n",
       "      <th>COSMETIC RECONSTRUCTION</th>\n",
       "      <td>113</td>\n",
       "      <td>95</td>\n",
       "      <td>92</td>\n",
       "    </tr>\n",
       "    <tr>\n",
       "      <th>CYSTOSCOPY</th>\n",
       "      <td>74469</td>\n",
       "      <td>64439</td>\n",
       "      <td>46892</td>\n",
       "    </tr>\n",
       "    <tr>\n",
       "      <th>HIP REPLACEMENT</th>\n",
       "      <td>20144</td>\n",
       "      <td>12452</td>\n",
       "      <td>14985</td>\n",
       "    </tr>\n",
       "    <tr>\n",
       "      <th>HYSTEROSCOPY</th>\n",
       "      <td>21243</td>\n",
       "      <td>17495</td>\n",
       "      <td>15811</td>\n",
       "    </tr>\n",
       "    <tr>\n",
       "      <th>KNEE REPLACEMENT</th>\n",
       "      <td>38072</td>\n",
       "      <td>24722</td>\n",
       "      <td>27276</td>\n",
       "    </tr>\n",
       "    <tr>\n",
       "      <th>MASTECTOMY</th>\n",
       "      <td>16986</td>\n",
       "      <td>12900</td>\n",
       "      <td>11866</td>\n",
       "    </tr>\n",
       "    <tr>\n",
       "      <th>PROSTATECTOMY</th>\n",
       "      <td>3866</td>\n",
       "      <td>2851</td>\n",
       "      <td>3010</td>\n",
       "    </tr>\n",
       "  </tbody>\n",
       "</table>\n",
       "</div>"
      ],
      "text/plain": [
       "                                      CLAIMS  PATIENTS  PHYSICIANS\n",
       "YEAR MONTH   ELECT_PX                                             \n",
       "2019 2019-03 CABG                        490       314         424\n",
       "             CATARACT                 152419    116246       55594\n",
       "             CHOLECYSTECTOMY           39036     28707       29054\n",
       "             COSMETIC RECONSTRUCTION     108       100          94\n",
       "             CYSTOSCOPY                68583     59367       42983\n",
       "             HIP REPLACEMENT           17580     10990       13110\n",
       "             HYSTEROSCOPY              21067     17356       15513\n",
       "             KNEE REPLACEMENT          33261     21671       23670\n",
       "             MASTECTOMY                15740     12039       10953\n",
       "             PROSTATECTOMY              3503      2548        2716\n",
       "     2019-04 CABG                        580       368         501\n",
       "             CATARACT                 170110    129741       62455\n",
       "             CHOLECYSTECTOMY           38835     28610       29025\n",
       "             COSMETIC RECONSTRUCTION     113        95          92\n",
       "             CYSTOSCOPY                74469     64439       46892\n",
       "             HIP REPLACEMENT           20144     12452       14985\n",
       "             HYSTEROSCOPY              21243     17495       15811\n",
       "             KNEE REPLACEMENT          38072     24722       27276\n",
       "             MASTECTOMY                16986     12900       11866\n",
       "             PROSTATECTOMY              3866      2851        3010"
      ]
     },
     "execution_count": 554,
     "metadata": {},
     "output_type": "execute_result"
    }
   ],
   "source": [
    "months_ignored = ['2018-12', '2019-01', '2019-02', '2020-01', '2020-02']\n",
    "pandemic_surgeries_df = pandemic_surgeries_df.drop(index = months_ignored, level = 1)\n",
    "pandemic_surgeries_df.head(20)"
   ]
  },
  {
   "cell_type": "code",
   "execution_count": 555,
   "id": "ahead-directive",
   "metadata": {},
   "outputs": [
    {
     "data": {
      "text/html": [
       "<div>\n",
       "<style scoped>\n",
       "    .dataframe tbody tr th:only-of-type {\n",
       "        vertical-align: middle;\n",
       "    }\n",
       "\n",
       "    .dataframe tbody tr th {\n",
       "        vertical-align: top;\n",
       "    }\n",
       "\n",
       "    .dataframe thead th {\n",
       "        text-align: right;\n",
       "    }\n",
       "</style>\n",
       "<table border=\"1\" class=\"dataframe\">\n",
       "  <thead>\n",
       "    <tr style=\"text-align: right;\">\n",
       "      <th></th>\n",
       "      <th></th>\n",
       "      <th>CLAIMS</th>\n",
       "      <th>PATIENTS</th>\n",
       "      <th>PHYSICIANS</th>\n",
       "    </tr>\n",
       "    <tr>\n",
       "      <th>YEAR</th>\n",
       "      <th>ELECT_PX</th>\n",
       "      <th></th>\n",
       "      <th></th>\n",
       "      <th></th>\n",
       "    </tr>\n",
       "  </thead>\n",
       "  <tbody>\n",
       "    <tr>\n",
       "      <th rowspan=\"10\" valign=\"top\">2019</th>\n",
       "      <th>CABG</th>\n",
       "      <td>2620</td>\n",
       "      <td>1674</td>\n",
       "      <td>2278</td>\n",
       "    </tr>\n",
       "    <tr>\n",
       "      <th>CATARACT</th>\n",
       "      <td>831766</td>\n",
       "      <td>636945</td>\n",
       "      <td>304098</td>\n",
       "    </tr>\n",
       "    <tr>\n",
       "      <th>CHOLECYSTECTOMY</th>\n",
       "      <td>198311</td>\n",
       "      <td>146375</td>\n",
       "      <td>148262</td>\n",
       "    </tr>\n",
       "    <tr>\n",
       "      <th>COSMETIC RECONSTRUCTION</th>\n",
       "      <td>569</td>\n",
       "      <td>496</td>\n",
       "      <td>480</td>\n",
       "    </tr>\n",
       "    <tr>\n",
       "      <th>CYSTOSCOPY</th>\n",
       "      <td>375539</td>\n",
       "      <td>324416</td>\n",
       "      <td>234415</td>\n",
       "    </tr>\n",
       "    <tr>\n",
       "      <th>HIP REPLACEMENT</th>\n",
       "      <td>97145</td>\n",
       "      <td>60547</td>\n",
       "      <td>72562</td>\n",
       "    </tr>\n",
       "    <tr>\n",
       "      <th>HYSTEROSCOPY</th>\n",
       "      <td>108540</td>\n",
       "      <td>89575</td>\n",
       "      <td>80349</td>\n",
       "    </tr>\n",
       "    <tr>\n",
       "      <th>KNEE REPLACEMENT</th>\n",
       "      <td>184002</td>\n",
       "      <td>119688</td>\n",
       "      <td>131745</td>\n",
       "    </tr>\n",
       "    <tr>\n",
       "      <th>MASTECTOMY</th>\n",
       "      <td>83770</td>\n",
       "      <td>64608</td>\n",
       "      <td>59269</td>\n",
       "    </tr>\n",
       "    <tr>\n",
       "      <th>PROSTATECTOMY</th>\n",
       "      <td>18439</td>\n",
       "      <td>13566</td>\n",
       "      <td>14503</td>\n",
       "    </tr>\n",
       "    <tr>\n",
       "      <th rowspan=\"10\" valign=\"top\">2020</th>\n",
       "      <th>CABG</th>\n",
       "      <td>1791</td>\n",
       "      <td>1116</td>\n",
       "      <td>1569</td>\n",
       "    </tr>\n",
       "    <tr>\n",
       "      <th>CATARACT</th>\n",
       "      <td>475015</td>\n",
       "      <td>360779</td>\n",
       "      <td>178566</td>\n",
       "    </tr>\n",
       "    <tr>\n",
       "      <th>CHOLECYSTECTOMY</th>\n",
       "      <td>153528</td>\n",
       "      <td>111305</td>\n",
       "      <td>115023</td>\n",
       "    </tr>\n",
       "    <tr>\n",
       "      <th>COSMETIC RECONSTRUCTION</th>\n",
       "      <td>348</td>\n",
       "      <td>305</td>\n",
       "      <td>299</td>\n",
       "    </tr>\n",
       "    <tr>\n",
       "      <th>CYSTOSCOPY</th>\n",
       "      <td>294156</td>\n",
       "      <td>252787</td>\n",
       "      <td>187528</td>\n",
       "    </tr>\n",
       "    <tr>\n",
       "      <th>HIP REPLACEMENT</th>\n",
       "      <td>97954</td>\n",
       "      <td>61249</td>\n",
       "      <td>71246</td>\n",
       "    </tr>\n",
       "    <tr>\n",
       "      <th>HYSTEROSCOPY</th>\n",
       "      <td>71375</td>\n",
       "      <td>58338</td>\n",
       "      <td>52213</td>\n",
       "    </tr>\n",
       "    <tr>\n",
       "      <th>KNEE REPLACEMENT</th>\n",
       "      <td>144420</td>\n",
       "      <td>91044</td>\n",
       "      <td>100059</td>\n",
       "    </tr>\n",
       "    <tr>\n",
       "      <th>MASTECTOMY</th>\n",
       "      <td>71386</td>\n",
       "      <td>53156</td>\n",
       "      <td>49731</td>\n",
       "    </tr>\n",
       "    <tr>\n",
       "      <th>PROSTATECTOMY</th>\n",
       "      <td>17953</td>\n",
       "      <td>12767</td>\n",
       "      <td>13745</td>\n",
       "    </tr>\n",
       "  </tbody>\n",
       "</table>\n",
       "</div>"
      ],
      "text/plain": [
       "                              CLAIMS  PATIENTS  PHYSICIANS\n",
       "YEAR ELECT_PX                                             \n",
       "2019 CABG                       2620      1674        2278\n",
       "     CATARACT                 831766    636945      304098\n",
       "     CHOLECYSTECTOMY          198311    146375      148262\n",
       "     COSMETIC RECONSTRUCTION     569       496         480\n",
       "     CYSTOSCOPY               375539    324416      234415\n",
       "     HIP REPLACEMENT           97145     60547       72562\n",
       "     HYSTEROSCOPY             108540     89575       80349\n",
       "     KNEE REPLACEMENT         184002    119688      131745\n",
       "     MASTECTOMY                83770     64608       59269\n",
       "     PROSTATECTOMY             18439     13566       14503\n",
       "2020 CABG                       1791      1116        1569\n",
       "     CATARACT                 475015    360779      178566\n",
       "     CHOLECYSTECTOMY          153528    111305      115023\n",
       "     COSMETIC RECONSTRUCTION     348       305         299\n",
       "     CYSTOSCOPY               294156    252787      187528\n",
       "     HIP REPLACEMENT           97954     61249       71246\n",
       "     HYSTEROSCOPY              71375     58338       52213\n",
       "     KNEE REPLACEMENT         144420     91044      100059\n",
       "     MASTECTOMY                71386     53156       49731\n",
       "     PROSTATECTOMY             17953     12767       13745"
      ]
     },
     "execution_count": 555,
     "metadata": {},
     "output_type": "execute_result"
    }
   ],
   "source": [
    "pandemic_surgeries_df = pandemic_surgeries_df.reset_index()\n",
    "relevant_fields = ['CLAIMS','PATIENTS','PHYSICIANS']\n",
    "pandemic_surgeries_df = pandemic_surgeries_df.groupby(['YEAR','ELECT_PX'])[relevant_fields].sum()\n",
    "pandemic_surgeries_df.head(20)"
   ]
  },
  {
   "cell_type": "code",
   "execution_count": 556,
   "id": "married-incident",
   "metadata": {},
   "outputs": [
    {
     "data": {
      "text/html": [
       "<div>\n",
       "<style scoped>\n",
       "    .dataframe tbody tr th:only-of-type {\n",
       "        vertical-align: middle;\n",
       "    }\n",
       "\n",
       "    .dataframe tbody tr th {\n",
       "        vertical-align: top;\n",
       "    }\n",
       "\n",
       "    .dataframe thead th {\n",
       "        text-align: right;\n",
       "    }\n",
       "</style>\n",
       "<table border=\"1\" class=\"dataframe\">\n",
       "  <thead>\n",
       "    <tr style=\"text-align: right;\">\n",
       "      <th></th>\n",
       "      <th>YEAR</th>\n",
       "      <th>ELECT_PX</th>\n",
       "      <th>CLAIMS</th>\n",
       "      <th>PATIENTS</th>\n",
       "      <th>PHYSICIANS</th>\n",
       "    </tr>\n",
       "  </thead>\n",
       "  <tbody>\n",
       "    <tr>\n",
       "      <th>0</th>\n",
       "      <td>2019</td>\n",
       "      <td>CABG</td>\n",
       "      <td>2620</td>\n",
       "      <td>1674</td>\n",
       "      <td>2278</td>\n",
       "    </tr>\n",
       "    <tr>\n",
       "      <th>1</th>\n",
       "      <td>2019</td>\n",
       "      <td>CATARACT</td>\n",
       "      <td>831766</td>\n",
       "      <td>636945</td>\n",
       "      <td>304098</td>\n",
       "    </tr>\n",
       "    <tr>\n",
       "      <th>2</th>\n",
       "      <td>2019</td>\n",
       "      <td>CHOLECYSTECTOMY</td>\n",
       "      <td>198311</td>\n",
       "      <td>146375</td>\n",
       "      <td>148262</td>\n",
       "    </tr>\n",
       "    <tr>\n",
       "      <th>3</th>\n",
       "      <td>2019</td>\n",
       "      <td>COSMETIC RECONSTRUCTION</td>\n",
       "      <td>569</td>\n",
       "      <td>496</td>\n",
       "      <td>480</td>\n",
       "    </tr>\n",
       "    <tr>\n",
       "      <th>4</th>\n",
       "      <td>2019</td>\n",
       "      <td>CYSTOSCOPY</td>\n",
       "      <td>375539</td>\n",
       "      <td>324416</td>\n",
       "      <td>234415</td>\n",
       "    </tr>\n",
       "  </tbody>\n",
       "</table>\n",
       "</div>"
      ],
      "text/plain": [
       "   YEAR                 ELECT_PX  CLAIMS  PATIENTS  PHYSICIANS\n",
       "0  2019                     CABG    2620      1674        2278\n",
       "1  2019                 CATARACT  831766    636945      304098\n",
       "2  2019          CHOLECYSTECTOMY  198311    146375      148262\n",
       "3  2019  COSMETIC RECONSTRUCTION     569       496         480\n",
       "4  2019               CYSTOSCOPY  375539    324416      234415"
      ]
     },
     "execution_count": 556,
     "metadata": {},
     "output_type": "execute_result"
    }
   ],
   "source": [
    "pandemic_surgeries_df = pandemic_surgeries_df.reset_index()\n",
    "pandemic_surgeries_df.head()"
   ]
  },
  {
   "cell_type": "code",
   "execution_count": 773,
   "id": "fleet-publisher",
   "metadata": {},
   "outputs": [
    {
     "data": {
      "image/png": "[encoded data removed]",
      "text/plain": [
       "<Figure size 1440x720 with 1 Axes>"
      ]
     },
     "metadata": {
      "needs_background": "light"
     },
     "output_type": "display_data"
    }
   ],
   "source": [
    "pre_pandemic_filter = pandemic_surgeries_df['YEAR'] == 2019\n",
    "mid_pandemic_filter = pandemic_surgeries_df['YEAR'] == 2020\n",
    "\n",
    "surgeries_pre_pandemic = pandemic_surgeries_df[pre_pandemic_filter]['PATIENTS'].values.tolist()\n",
    "surgeries_mid_pandemic = pandemic_surgeries_df[mid_pandemic_filter]['PATIENTS'].values.tolist()\n",
    "\n",
    "surgery_types = yearly_surgeries_df['ELECT_PX'][1:11].values.tolist()\n",
    "\n",
    "x = np.arange(len(surgery_types))\n",
    "width = 0.4\n",
    "\n",
    "fig, ax = plt.subplots(figsize = (20, 10))\n",
    "rects1 = ax.bar(x - width/2, surgeries_pre_pandemic, width, label='pre-pandemic')\n",
    "rects2 = ax.bar(x + width/2, surgeries_mid_pandemic, width, label='mid-pandemic')\n",
    "\n",
    "ax.set_ylabel('# of Patients', fontsize = 25)\n",
    "ax.set_xlabel('Type of Elective Surgery', fontsize = 25)\n",
    "ax.set_title('Elective Surgeries Performed Before and After the Pandemic started', fontsize = 35)\n",
    "ax.set_xticks(x)\n",
    "ax.set_yticks(range(0, 650000, 100000))\n",
    "ax.set_xticklabels(surgery_types, rotation = \"vertical\", fontsize = 20)\n",
    "ax.tick_params(axis = 'y', labelsize = 16)\n",
    "ax.legend(fontsize = 30)\n",
    "\n",
    "def autolabel(rects):\n",
    "    for rect in rects:\n",
    "        height = rect.get_height()\n",
    "        ax.text(rect.get_x()+rect.get_width()/2, 1.005*height, '%d'%int(height),\n",
    "                ha='center', va='bottom', fontsize = 11)\n",
    "autolabel(rects1)\n",
    "autolabel(rects2)\n",
    "\n",
    "plt.show()"
   ]
  },
  {
   "cell_type": "markdown",
   "id": "sunset-comedy",
   "metadata": {},
   "source": [
    "### After having adjusted the data being plotted to better compare the effect the pandemic had on elective surgeries, we can see much of the same trends as the previous plot, but a more significant impact on some surgeries. Cataract surgeries are now seen to have decreased not by 30% as in the previous plot, but by almost 50%, and the impact on surgeries already significantly impacted has increased. Hip replacements and prostatectomies are once again seen to have been barely impacted by the pandemic.\n",
    "\n",
    "### Since we have controlled for the time of year and we are comparing between the year before and during the pandemic in terms of elective surgeries performed, it would be safe to assume that the coronavirus had a significant impact on patients' willingness or ability to get many of the elective surgeries (although to a varying degree based on surgery), as we hypothesized to be the case due to state restrictions limiting access to healthcare as well as the fear surrounding hospitals during the pandemic.\n",
    "\n",
    "### This would be a stronger assumption if we further researched similar data on elective surgeries performed in the years leading up to 2019, to compare with the 2020 data. Another potential avenue for future research that would make these findings more conclusive could be into each of these types of elective surgeries, their trends over time, and whether any new research/discoveries in relevant medical issues have recently affected the amount of these elective surgeries being performed."
   ]
  },
  {
   "cell_type": "markdown",
   "id": "bizarre-advice",
   "metadata": {},
   "source": [
    "## State restrictions visualization"
   ]
  },
  {
   "cell_type": "code",
   "execution_count": 583,
   "id": "damaged-arlington",
   "metadata": {},
   "outputs": [
    {
     "data": {
      "image/png": "[encoded data removed]",
      "text/plain": [
       "<Figure size 1152x504 with 1 Axes>"
      ]
     },
     "metadata": {
      "needs_background": "light"
     },
     "output_type": "display_data"
    }
   ],
   "source": [
    "plt.figure(figsize = (16,7))\n",
    "plt.bar(x = restrictions_df.index, height = restrictions_df['SCORE RESTR'])\n",
    "plt.title(\"Restriction Scores by State\", fontsize = 'xx-large')\n",
    "plt.xlabel(\"State Code\", fontsize = 'large')\n",
    "plt.ylabel(\"Restriction Score\", fontsize = 'large')\n",
    "plt.show()"
   ]
  },
  {
   "cell_type": "markdown",
   "id": "likely-extraction",
   "metadata": {},
   "source": [
    "### As shown in this bar plot, there is a wide variation in COVID-19 restrictions between states like South Dakota, Idaho, and Utah and states like Hawaii, California, and Massachusetts. Another insight to be gleaned from this visual is that a significant amount of states, almost 50% of them, have a restriction score less than half that of the most heavily restricted state, South Dakota."
   ]
  },
  {
   "cell_type": "markdown",
   "id": "psychological-reminder",
   "metadata": {},
   "source": [
    "## Analysis of surgeries performed relative to restrictions put in place"
   ]
  },
  {
   "cell_type": "markdown",
   "id": "later-context",
   "metadata": {},
   "source": [
    "### Now that we know that the pandemic had a significant impact on the amount of elective surgeries being performed, in general, we can further analyze this data in relation to the restrictions put in place in the corresponding states. This will allow us to gain insight into the impact that the level of restriction put in place has on the amount of patients willing to come in for an elective surgery."
   ]
  },
  {
   "cell_type": "code",
   "execution_count": 559,
   "id": "conditional-punch",
   "metadata": {},
   "outputs": [
    {
     "data": {
      "text/plain": [
       "MONTH    YEAR  ELECT_PX  PTNT_ST_ABBR  PTNT_AGE_GRP\n",
       "2019-03  2019  CABG      AL            65-79            5\n",
       "                         AR            50-64            3\n",
       "                                       65-79            4\n",
       "                                       80 or older      3\n",
       "                         AZ            50-64            6\n",
       "                                       65-79            5\n",
       "                                       80 or older      3\n",
       "                         CA            40-49            1\n",
       "                                       50-64            2\n",
       "                                       65-79           16\n",
       "Name: PATIENTS, dtype: int64"
      ]
     },
     "execution_count": 559,
     "metadata": {},
     "output_type": "execute_result"
    }
   ],
   "source": [
    "months_ignored = ['2018-12', '2019-01', '2019-02', '2020-01', '2020-02']\n",
    "relevant_fields = ['MONTH','YEAR','ELECT_PX','PTNT_ST_ABBR','PTNT_AGE_GRP']\n",
    "\n",
    "restriction_surgeries_df = surgery_df2.groupby(relevant_fields)['PATIENTS'].sum()\n",
    "restriction_surgeries_df = restriction_surgeries_df.drop(index = months_ignored, level = 0)\n",
    "restriction_surgeries_df.head(10)"
   ]
  },
  {
   "cell_type": "code",
   "execution_count": 560,
   "id": "viral-ceiling",
   "metadata": {},
   "outputs": [
    {
     "data": {
      "text/html": [
       "<div>\n",
       "<style scoped>\n",
       "    .dataframe tbody tr th:only-of-type {\n",
       "        vertical-align: middle;\n",
       "    }\n",
       "\n",
       "    .dataframe tbody tr th {\n",
       "        vertical-align: top;\n",
       "    }\n",
       "\n",
       "    .dataframe thead th {\n",
       "        text-align: right;\n",
       "    }\n",
       "</style>\n",
       "<table border=\"1\" class=\"dataframe\">\n",
       "  <thead>\n",
       "    <tr style=\"text-align: right;\">\n",
       "      <th></th>\n",
       "      <th>MONTH</th>\n",
       "      <th>YEAR</th>\n",
       "      <th>ELECT_PX</th>\n",
       "      <th>PTNT_ST_ABBR</th>\n",
       "      <th>PTNT_AGE_GRP</th>\n",
       "      <th>PATIENTS</th>\n",
       "    </tr>\n",
       "  </thead>\n",
       "  <tbody>\n",
       "    <tr>\n",
       "      <th>0</th>\n",
       "      <td>2019-03</td>\n",
       "      <td>2019</td>\n",
       "      <td>CABG</td>\n",
       "      <td>AL</td>\n",
       "      <td>65-79</td>\n",
       "      <td>5</td>\n",
       "    </tr>\n",
       "    <tr>\n",
       "      <th>1</th>\n",
       "      <td>2019-03</td>\n",
       "      <td>2019</td>\n",
       "      <td>CABG</td>\n",
       "      <td>AR</td>\n",
       "      <td>50-64</td>\n",
       "      <td>3</td>\n",
       "    </tr>\n",
       "    <tr>\n",
       "      <th>2</th>\n",
       "      <td>2019-03</td>\n",
       "      <td>2019</td>\n",
       "      <td>CABG</td>\n",
       "      <td>AR</td>\n",
       "      <td>65-79</td>\n",
       "      <td>4</td>\n",
       "    </tr>\n",
       "    <tr>\n",
       "      <th>3</th>\n",
       "      <td>2019-03</td>\n",
       "      <td>2019</td>\n",
       "      <td>CABG</td>\n",
       "      <td>AR</td>\n",
       "      <td>80 or older</td>\n",
       "      <td>3</td>\n",
       "    </tr>\n",
       "    <tr>\n",
       "      <th>4</th>\n",
       "      <td>2019-03</td>\n",
       "      <td>2019</td>\n",
       "      <td>CABG</td>\n",
       "      <td>AZ</td>\n",
       "      <td>50-64</td>\n",
       "      <td>6</td>\n",
       "    </tr>\n",
       "  </tbody>\n",
       "</table>\n",
       "</div>"
      ],
      "text/plain": [
       "     MONTH  YEAR ELECT_PX PTNT_ST_ABBR PTNT_AGE_GRP  PATIENTS\n",
       "0  2019-03  2019     CABG           AL        65-79         5\n",
       "1  2019-03  2019     CABG           AR        50-64         3\n",
       "2  2019-03  2019     CABG           AR        65-79         4\n",
       "3  2019-03  2019     CABG           AR  80 or older         3\n",
       "4  2019-03  2019     CABG           AZ        50-64         6"
      ]
     },
     "execution_count": 560,
     "metadata": {},
     "output_type": "execute_result"
    }
   ],
   "source": [
    "restriction_surgeries_df = restriction_surgeries_df.reset_index()\n",
    "restriction_surgeries_df.head()"
   ]
  },
  {
   "cell_type": "code",
   "execution_count": 561,
   "id": "operating-closing",
   "metadata": {},
   "outputs": [
    {
     "data": {
      "text/plain": [
       "YEAR  PTNT_ST_ABBR  ELECT_PX               \n",
       "2019  AK            CABG                         1\n",
       "                    CATARACT                   316\n",
       "                    CHOLECYSTECTOMY            196\n",
       "                    COSMETIC RECONSTRUCTION      1\n",
       "                    CYSTOSCOPY                 342\n",
       "Name: PATIENTS, dtype: int64"
      ]
     },
     "execution_count": 561,
     "metadata": {},
     "output_type": "execute_result"
    }
   ],
   "source": [
    "restriction_surgeries_df = restriction_surgeries_df.groupby(['YEAR','PTNT_ST_ABBR','ELECT_PX'])['PATIENTS'].sum()\n",
    "restriction_surgeries_df.head()"
   ]
  },
  {
   "cell_type": "code",
   "execution_count": 562,
   "id": "indirect-elite",
   "metadata": {},
   "outputs": [
    {
     "name": "stdout",
     "output_type": "stream",
     "text": [
      "[1674, 636945, 146375, 496, 324416, 60547, 89575, 119688, 64608, 13566]\n",
      "[1116, 360779, 111305, 305, 252787, 61249, 58338, 91044, 53156, 12767]\n",
      "['CABG', 'CATARACT', 'CHOLECYSTECTOMY', 'COSMETIC RECONSTRUCTION', 'CYSTOSCOPY', 'HIP REPLACEMENT', 'HYSTEROSCOPY', 'KNEE REPLACEMENT', 'MASTECTOMY', 'PROSTATECTOMY']\n"
     ]
    }
   ],
   "source": [
    "print(surgeries_pre_pandemic)\n",
    "print(surgeries_mid_pandemic)\n",
    "print(surgery_types)"
   ]
  },
  {
   "cell_type": "code",
   "execution_count": 708,
   "id": "sexual-strap",
   "metadata": {},
   "outputs": [
    {
     "data": {
      "text/html": [
       "<div>\n",
       "<style scoped>\n",
       "    .dataframe tbody tr th:only-of-type {\n",
       "        vertical-align: middle;\n",
       "    }\n",
       "\n",
       "    .dataframe tbody tr th {\n",
       "        vertical-align: top;\n",
       "    }\n",
       "\n",
       "    .dataframe thead th {\n",
       "        text-align: right;\n",
       "    }\n",
       "</style>\n",
       "<table border=\"1\" class=\"dataframe\">\n",
       "  <thead>\n",
       "    <tr style=\"text-align: right;\">\n",
       "      <th></th>\n",
       "      <th>YEAR</th>\n",
       "      <th>PTNT_ST_ABBR</th>\n",
       "      <th>ELECT_PX</th>\n",
       "      <th>PATIENTS</th>\n",
       "    </tr>\n",
       "  </thead>\n",
       "  <tbody>\n",
       "    <tr>\n",
       "      <th>0</th>\n",
       "      <td>2019</td>\n",
       "      <td>AK</td>\n",
       "      <td>CABG</td>\n",
       "      <td>1</td>\n",
       "    </tr>\n",
       "    <tr>\n",
       "      <th>1</th>\n",
       "      <td>2019</td>\n",
       "      <td>AK</td>\n",
       "      <td>CATARACT</td>\n",
       "      <td>316</td>\n",
       "    </tr>\n",
       "    <tr>\n",
       "      <th>2</th>\n",
       "      <td>2019</td>\n",
       "      <td>AK</td>\n",
       "      <td>CHOLECYSTECTOMY</td>\n",
       "      <td>196</td>\n",
       "    </tr>\n",
       "    <tr>\n",
       "      <th>3</th>\n",
       "      <td>2019</td>\n",
       "      <td>AK</td>\n",
       "      <td>COSMETIC RECONSTRUCTION</td>\n",
       "      <td>1</td>\n",
       "    </tr>\n",
       "    <tr>\n",
       "      <th>4</th>\n",
       "      <td>2019</td>\n",
       "      <td>AK</td>\n",
       "      <td>CYSTOSCOPY</td>\n",
       "      <td>342</td>\n",
       "    </tr>\n",
       "  </tbody>\n",
       "</table>\n",
       "</div>"
      ],
      "text/plain": [
       "   YEAR PTNT_ST_ABBR                 ELECT_PX  PATIENTS\n",
       "0  2019           AK                     CABG         1\n",
       "1  2019           AK                 CATARACT       316\n",
       "2  2019           AK          CHOLECYSTECTOMY       196\n",
       "3  2019           AK  COSMETIC RECONSTRUCTION         1\n",
       "4  2019           AK               CYSTOSCOPY       342"
      ]
     },
     "execution_count": 708,
     "metadata": {},
     "output_type": "execute_result"
    }
   ],
   "source": [
    "temp_2019_df = restriction_surgeries_df.reset_index()\n",
    "temp_2020_df = temp_2019_df[temp_2019_df['YEAR'] == 2020]\n",
    "temp_2019_df = temp_2019_df[temp_2019_df['YEAR'] == 2019]\n",
    "temp_2019_df.head()"
   ]
  },
  {
   "cell_type": "code",
   "execution_count": 709,
   "id": "bright-louisville",
   "metadata": {},
   "outputs": [
    {
     "data": {
      "text/plain": [
       "count      495.000000\n",
       "mean      2945.232323\n",
       "std       6127.624173\n",
       "min          1.000000\n",
       "25%        104.500000\n",
       "50%        828.000000\n",
       "75%       2861.500000\n",
       "max      55959.000000\n",
       "Name: PATIENTS, dtype: float64"
      ]
     },
     "execution_count": 709,
     "metadata": {},
     "output_type": "execute_result"
    }
   ],
   "source": [
    "temp_2019_df['PATIENTS'].describe()"
   ]
  },
  {
   "cell_type": "code",
   "execution_count": 710,
   "id": "moved-weight",
   "metadata": {},
   "outputs": [
    {
     "data": {
      "text/plain": [
       "count      491.000000\n",
       "mean      2042.456212\n",
       "std       3808.079423\n",
       "min          1.000000\n",
       "25%        108.500000\n",
       "50%        729.000000\n",
       "75%       2148.000000\n",
       "max      30791.000000\n",
       "Name: PATIENTS, dtype: float64"
      ]
     },
     "execution_count": 710,
     "metadata": {},
     "output_type": "execute_result"
    }
   ],
   "source": [
    "temp_2020_df['PATIENTS'].describe()"
   ]
  },
  {
   "cell_type": "code",
   "execution_count": 711,
   "id": "interim-ukraine",
   "metadata": {},
   "outputs": [
    {
     "data": {
      "text/plain": [
       "count     495\n",
       "unique     50\n",
       "top        KY\n",
       "freq       10\n",
       "Name: PTNT_ST_ABBR, dtype: object"
      ]
     },
     "execution_count": 711,
     "metadata": {},
     "output_type": "execute_result"
    }
   ],
   "source": [
    "temp_2019_df['PTNT_ST_ABBR'].describe()"
   ]
  },
  {
   "cell_type": "code",
   "execution_count": 712,
   "id": "moved-channel",
   "metadata": {},
   "outputs": [
    {
     "data": {
      "text/plain": [
       "array(['AK', 'AL', 'AR', 'AZ', 'CA', 'CO', 'CT', 'DE', 'FL', 'GA', 'HI',\n",
       "       'IA', 'ID', 'IL', 'IN', 'KS', 'KY', 'LA', 'MA', 'MD', 'ME', 'MI',\n",
       "       'MN', 'MO', 'MS', 'MT', 'NC', 'ND', 'NE', 'NH', 'NJ', 'NM', 'NV',\n",
       "       'NY', 'OH', 'OK', 'OR', 'PA', 'RI', 'SC', 'SD', 'TN', 'TX', 'UT',\n",
       "       'VA', 'VT', 'WA', 'WI', 'WV', 'WY'], dtype=object)"
      ]
     },
     "execution_count": 712,
     "metadata": {},
     "output_type": "execute_result"
    }
   ],
   "source": [
    "temp_2019_df['PTNT_ST_ABBR'].unique()\n",
    "# print(len(temp_2019_df['PTNT_ST_ABBR'].unique()))"
   ]
  },
  {
   "cell_type": "code",
   "execution_count": 713,
   "id": "specific-first",
   "metadata": {},
   "outputs": [
    {
     "data": {
      "text/plain": [
       "50"
      ]
     },
     "execution_count": 713,
     "metadata": {},
     "output_type": "execute_result"
    }
   ],
   "source": [
    "len(temp_2019_df['PTNT_ST_ABBR'].unique())"
   ]
  },
  {
   "cell_type": "code",
   "execution_count": 714,
   "id": "framed-comedy",
   "metadata": {},
   "outputs": [
    {
     "data": {
      "text/plain": [
       "50"
      ]
     },
     "execution_count": 714,
     "metadata": {},
     "output_type": "execute_result"
    }
   ],
   "source": [
    "len(restrictions_df.index.unique())"
   ]
  },
  {
   "cell_type": "code",
   "execution_count": 715,
   "id": "varying-flash",
   "metadata": {},
   "outputs": [
    {
     "name": "stdout",
     "output_type": "stream",
     "text": [
      "['AK', 'AL', 'AR', 'AZ', 'CA', 'CO', 'CT', 'DE', 'FL', 'GA', 'HI', 'IA', 'ID', 'IL', 'IN', 'KS', 'KY', 'LA', 'MA', 'MD', 'ME', 'MI', 'MN', 'MO', 'MS', 'MT', 'NC', 'ND', 'NE', 'NH', 'NJ', 'NM', 'NV', 'NY', 'OH', 'OK', 'OR', 'PA', 'RI', 'SC', 'SD', 'TN', 'TX', 'UT', 'VA', 'VT', 'WA', 'WI', 'WV', 'WY']\n"
     ]
    }
   ],
   "source": [
    "print(sorted(restrictions_df.index))"
   ]
  },
  {
   "cell_type": "code",
   "execution_count": 716,
   "id": "egyptian-future",
   "metadata": {},
   "outputs": [],
   "source": [
    "list1 = restrictions_df.index\n",
    "list2 = temp_2019_df['PTNT_ST_ABBR'].unique()\n",
    "for i in list2:\n",
    "    if i not in list1:\n",
    "        print(i)"
   ]
  },
  {
   "cell_type": "code",
   "execution_count": 717,
   "id": "working-russian",
   "metadata": {},
   "outputs": [
    {
     "name": "stdout",
     "output_type": "stream",
     "text": [
      "For ID there is no COSMETIC RECONSTRUCTION\n",
      "For UT there is no COSMETIC RECONSTRUCTION\n",
      "For VT there is no CABG\n",
      "For VT there is no COSMETIC RECONSTRUCTION\n",
      "For WY there is no COSMETIC RECONSTRUCTION\n"
     ]
    }
   ],
   "source": [
    "for i in temp_2019_df['PTNT_ST_ABBR'].unique():\n",
    "    for j in temp_2019_df['ELECT_PX'].unique():\n",
    "        temp_var = temp_2019_df[temp_2019_df['PTNT_ST_ABBR'] == i]\n",
    "        if (temp_var['ELECT_PX'] == j).sum() == 0:\n",
    "            print('For', i, 'there is no', j)\n",
    "        "
   ]
  },
  {
   "cell_type": "code",
   "execution_count": 718,
   "id": "blind-raleigh",
   "metadata": {},
   "outputs": [
    {
     "name": "stdout",
     "output_type": "stream",
     "text": [
      "For AK there is no COSMETIC RECONSTRUCTION\n",
      "For HI there is no COSMETIC RECONSTRUCTION\n",
      "For ME there is no COSMETIC RECONSTRUCTION\n",
      "For MT there is no COSMETIC RECONSTRUCTION\n",
      "For NM there is no COSMETIC RECONSTRUCTION\n",
      "For RI there is no COSMETIC RECONSTRUCTION\n",
      "For VT there is no COSMETIC RECONSTRUCTION\n",
      "For WY there is no CABG\n",
      "For WY there is no COSMETIC RECONSTRUCTION\n"
     ]
    }
   ],
   "source": [
    "for i in temp_2020_df['PTNT_ST_ABBR'].unique():\n",
    "    for j in temp_2020_df['ELECT_PX'].unique():\n",
    "        temp_var = temp_2020_df[temp_2020_df['PTNT_ST_ABBR'] == i]\n",
    "        if (temp_var['ELECT_PX'] == j).sum() == 0:\n",
    "            print('For', i, 'there is no', j)"
   ]
  },
  {
   "cell_type": "code",
   "execution_count": 719,
   "id": "fabulous-correlation",
   "metadata": {},
   "outputs": [
    {
     "data": {
      "text/html": [
       "<div>\n",
       "<style scoped>\n",
       "    .dataframe tbody tr th:only-of-type {\n",
       "        vertical-align: middle;\n",
       "    }\n",
       "\n",
       "    .dataframe tbody tr th {\n",
       "        vertical-align: top;\n",
       "    }\n",
       "\n",
       "    .dataframe thead th {\n",
       "        text-align: right;\n",
       "    }\n",
       "</style>\n",
       "<table border=\"1\" class=\"dataframe\">\n",
       "  <thead>\n",
       "    <tr style=\"text-align: right;\">\n",
       "      <th></th>\n",
       "      <th>YEAR</th>\n",
       "      <th>PTNT_ST_ABBR</th>\n",
       "      <th>ELECT_PX</th>\n",
       "      <th>PATIENTS</th>\n",
       "    </tr>\n",
       "  </thead>\n",
       "  <tbody>\n",
       "    <tr>\n",
       "      <th>0</th>\n",
       "      <td>2019</td>\n",
       "      <td>AK</td>\n",
       "      <td>CABG</td>\n",
       "      <td>1</td>\n",
       "    </tr>\n",
       "    <tr>\n",
       "      <th>1</th>\n",
       "      <td>2019</td>\n",
       "      <td>AK</td>\n",
       "      <td>CATARACT</td>\n",
       "      <td>316</td>\n",
       "    </tr>\n",
       "    <tr>\n",
       "      <th>2</th>\n",
       "      <td>2019</td>\n",
       "      <td>AK</td>\n",
       "      <td>CHOLECYSTECTOMY</td>\n",
       "      <td>196</td>\n",
       "    </tr>\n",
       "    <tr>\n",
       "      <th>3</th>\n",
       "      <td>2019</td>\n",
       "      <td>AK</td>\n",
       "      <td>COSMETIC RECONSTRUCTION</td>\n",
       "      <td>1</td>\n",
       "    </tr>\n",
       "    <tr>\n",
       "      <th>4</th>\n",
       "      <td>2019</td>\n",
       "      <td>AK</td>\n",
       "      <td>CYSTOSCOPY</td>\n",
       "      <td>342</td>\n",
       "    </tr>\n",
       "  </tbody>\n",
       "</table>\n",
       "</div>"
      ],
      "text/plain": [
       "   YEAR PTNT_ST_ABBR                 ELECT_PX  PATIENTS\n",
       "0  2019           AK                     CABG         1\n",
       "1  2019           AK                 CATARACT       316\n",
       "2  2019           AK          CHOLECYSTECTOMY       196\n",
       "3  2019           AK  COSMETIC RECONSTRUCTION         1\n",
       "4  2019           AK               CYSTOSCOPY       342"
      ]
     },
     "execution_count": 719,
     "metadata": {},
     "output_type": "execute_result"
    }
   ],
   "source": [
    "temp_2019_df.head()"
   ]
  },
  {
   "cell_type": "code",
   "execution_count": 720,
   "id": "mental-involvement",
   "metadata": {},
   "outputs": [],
   "source": [
    "missing_val = pd.DataFrame([[2019, 'ID', 'COSMETIC RECONSTRUCTION', 0],\n",
    "                            [2019, 'UT', 'COSMETIC RECONSTRUCTION', 0],\n",
    "                            [2019, 'VT', 'CABG', 0],\n",
    "                            [2019, 'VT', 'COSMETIC RECONSTRUCTION', 0],\n",
    "                            [2019, 'WY', 'COSMETIC RECONSTRUCTION', 0]], \n",
    "                           columns = ['YEAR', 'PTNT_ST_ABBR', 'ELECT_PX', 'PATIENTS'])\n",
    "temp_2019_df = temp_2019_df.append(missing_val, ignore_index=True)"
   ]
  },
  {
   "cell_type": "code",
   "execution_count": 721,
   "id": "established-clock",
   "metadata": {},
   "outputs": [],
   "source": [
    "missing_val = pd.DataFrame([[2020, 'AK', 'COSMETIC RECONSTRUCTION', 0],\n",
    "                            [2020, 'HI', 'COSMETIC RECONSTRUCTION', 0],\n",
    "                            [2020, 'ME', 'COSMETIC RECONSTRUCTION', 0],\n",
    "                            [2020, 'MT', 'COSMETIC RECONSTRUCTION', 0],\n",
    "                            [2020, 'NM', 'COSMETIC RECONSTRUCTION', 0],\n",
    "                            [2020, 'RI', 'COSMETIC RECONSTRUCTION', 0],\n",
    "                            [2020, 'VT', 'COSMETIC RECONSTRUCTION', 0],\n",
    "                            [2020, 'WY', 'CABG', 0],\n",
    "                            [2020, 'WY', 'COSMETIC RECONSTRUCTION', 0],], \n",
    "                           columns = ['YEAR', 'PTNT_ST_ABBR', 'ELECT_PX', 'PATIENTS'])\n",
    "temp_2020_df = temp_2020_df.append(missing_val, ignore_index=True)"
   ]
  },
  {
   "cell_type": "code",
   "execution_count": 722,
   "id": "banned-drill",
   "metadata": {},
   "outputs": [],
   "source": [
    "temp_2019_df = temp_2019_df.groupby(['PTNT_ST_ABBR', 'ELECT_PX'])['PATIENTS'].sum()\n",
    "temp_2020_df = temp_2020_df.groupby(['PTNT_ST_ABBR', 'ELECT_PX'])['PATIENTS'].sum()\n",
    "temp_2019_df = temp_2019_df.reset_index()\n",
    "temp_2020_df = temp_2020_df.reset_index()"
   ]
  },
  {
   "cell_type": "code",
   "execution_count": 723,
   "id": "specialized-duration",
   "metadata": {},
   "outputs": [
    {
     "data": {
      "text/html": [
       "<div>\n",
       "<style scoped>\n",
       "    .dataframe tbody tr th:only-of-type {\n",
       "        vertical-align: middle;\n",
       "    }\n",
       "\n",
       "    .dataframe tbody tr th {\n",
       "        vertical-align: top;\n",
       "    }\n",
       "\n",
       "    .dataframe thead th {\n",
       "        text-align: right;\n",
       "    }\n",
       "</style>\n",
       "<table border=\"1\" class=\"dataframe\">\n",
       "  <thead>\n",
       "    <tr style=\"text-align: right;\">\n",
       "      <th></th>\n",
       "      <th>PTNT_ST_ABBR</th>\n",
       "      <th>ELECT_PX</th>\n",
       "      <th>PATIENTS</th>\n",
       "    </tr>\n",
       "  </thead>\n",
       "  <tbody>\n",
       "    <tr>\n",
       "      <th>0</th>\n",
       "      <td>AK</td>\n",
       "      <td>CABG</td>\n",
       "      <td>1</td>\n",
       "    </tr>\n",
       "    <tr>\n",
       "      <th>1</th>\n",
       "      <td>AK</td>\n",
       "      <td>CATARACT</td>\n",
       "      <td>171</td>\n",
       "    </tr>\n",
       "    <tr>\n",
       "      <th>2</th>\n",
       "      <td>AK</td>\n",
       "      <td>CHOLECYSTECTOMY</td>\n",
       "      <td>198</td>\n",
       "    </tr>\n",
       "    <tr>\n",
       "      <th>3</th>\n",
       "      <td>AK</td>\n",
       "      <td>COSMETIC RECONSTRUCTION</td>\n",
       "      <td>0</td>\n",
       "    </tr>\n",
       "    <tr>\n",
       "      <th>4</th>\n",
       "      <td>AK</td>\n",
       "      <td>CYSTOSCOPY</td>\n",
       "      <td>252</td>\n",
       "    </tr>\n",
       "    <tr>\n",
       "      <th>...</th>\n",
       "      <td>...</td>\n",
       "      <td>...</td>\n",
       "      <td>...</td>\n",
       "    </tr>\n",
       "    <tr>\n",
       "      <th>495</th>\n",
       "      <td>WY</td>\n",
       "      <td>HIP REPLACEMENT</td>\n",
       "      <td>110</td>\n",
       "    </tr>\n",
       "    <tr>\n",
       "      <th>496</th>\n",
       "      <td>WY</td>\n",
       "      <td>HYSTEROSCOPY</td>\n",
       "      <td>20</td>\n",
       "    </tr>\n",
       "    <tr>\n",
       "      <th>497</th>\n",
       "      <td>WY</td>\n",
       "      <td>KNEE REPLACEMENT</td>\n",
       "      <td>195</td>\n",
       "    </tr>\n",
       "    <tr>\n",
       "      <th>498</th>\n",
       "      <td>WY</td>\n",
       "      <td>MASTECTOMY</td>\n",
       "      <td>29</td>\n",
       "    </tr>\n",
       "    <tr>\n",
       "      <th>499</th>\n",
       "      <td>WY</td>\n",
       "      <td>PROSTATECTOMY</td>\n",
       "      <td>20</td>\n",
       "    </tr>\n",
       "  </tbody>\n",
       "</table>\n",
       "<p>500 rows × 3 columns</p>\n",
       "</div>"
      ],
      "text/plain": [
       "    PTNT_ST_ABBR                 ELECT_PX  PATIENTS\n",
       "0             AK                     CABG         1\n",
       "1             AK                 CATARACT       171\n",
       "2             AK          CHOLECYSTECTOMY       198\n",
       "3             AK  COSMETIC RECONSTRUCTION         0\n",
       "4             AK               CYSTOSCOPY       252\n",
       "..           ...                      ...       ...\n",
       "495           WY          HIP REPLACEMENT       110\n",
       "496           WY             HYSTEROSCOPY        20\n",
       "497           WY         KNEE REPLACEMENT       195\n",
       "498           WY               MASTECTOMY        29\n",
       "499           WY            PROSTATECTOMY        20\n",
       "\n",
       "[500 rows x 3 columns]"
      ]
     },
     "execution_count": 723,
     "metadata": {},
     "output_type": "execute_result"
    }
   ],
   "source": [
    "temp_2019_df.sort_values(by=['PTNT_ST_ABBR', 'ELECT_PX'], ascending = True)\n",
    "temp_2020_df.sort_values(by=['PTNT_ST_ABBR', 'ELECT_PX'], ascending = True)"
   ]
  },
  {
   "cell_type": "code",
   "execution_count": 751,
   "id": "hundred-special",
   "metadata": {},
   "outputs": [
    {
     "data": {
      "text/html": [
       "<div>\n",
       "<style scoped>\n",
       "    .dataframe tbody tr th:only-of-type {\n",
       "        vertical-align: middle;\n",
       "    }\n",
       "\n",
       "    .dataframe tbody tr th {\n",
       "        vertical-align: top;\n",
       "    }\n",
       "\n",
       "    .dataframe thead th {\n",
       "        text-align: right;\n",
       "    }\n",
       "</style>\n",
       "<table border=\"1\" class=\"dataframe\">\n",
       "  <thead>\n",
       "    <tr style=\"text-align: right;\">\n",
       "      <th></th>\n",
       "      <th>PTNT_ST_ABBR</th>\n",
       "      <th>ELECT_PX</th>\n",
       "      <th>PATIENTS</th>\n",
       "      <th>PCNT_CHANGE</th>\n",
       "    </tr>\n",
       "  </thead>\n",
       "  <tbody>\n",
       "    <tr>\n",
       "      <th>0</th>\n",
       "      <td>AK</td>\n",
       "      <td>CABG</td>\n",
       "      <td>1</td>\n",
       "      <td>0.000000</td>\n",
       "    </tr>\n",
       "    <tr>\n",
       "      <th>1</th>\n",
       "      <td>AK</td>\n",
       "      <td>CATARACT</td>\n",
       "      <td>171</td>\n",
       "      <td>45.886076</td>\n",
       "    </tr>\n",
       "    <tr>\n",
       "      <th>2</th>\n",
       "      <td>AK</td>\n",
       "      <td>CHOLECYSTECTOMY</td>\n",
       "      <td>198</td>\n",
       "      <td>-1.020408</td>\n",
       "    </tr>\n",
       "    <tr>\n",
       "      <th>3</th>\n",
       "      <td>AK</td>\n",
       "      <td>COSMETIC RECONSTRUCTION</td>\n",
       "      <td>0</td>\n",
       "      <td>99.999900</td>\n",
       "    </tr>\n",
       "    <tr>\n",
       "      <th>4</th>\n",
       "      <td>AK</td>\n",
       "      <td>CYSTOSCOPY</td>\n",
       "      <td>252</td>\n",
       "      <td>26.315789</td>\n",
       "    </tr>\n",
       "  </tbody>\n",
       "</table>\n",
       "</div>"
      ],
      "text/plain": [
       "  PTNT_ST_ABBR                 ELECT_PX  PATIENTS  PCNT_CHANGE\n",
       "0           AK                     CABG         1     0.000000\n",
       "1           AK                 CATARACT       171    45.886076\n",
       "2           AK          CHOLECYSTECTOMY       198    -1.020408\n",
       "3           AK  COSMETIC RECONSTRUCTION         0    99.999900\n",
       "4           AK               CYSTOSCOPY       252    26.315789"
      ]
     },
     "execution_count": 751,
     "metadata": {},
     "output_type": "execute_result"
    }
   ],
   "source": [
    "epsilon = 1e-6\n",
    "temp_2020_df['PCNT_CHANGE'] = 100*((temp_2019_df['PATIENTS']-temp_2020_df['PATIENTS'])/(temp_2019_df['PATIENTS']+epsilon))\n",
    "temp_2020_df.head()"
   ]
  },
  {
   "cell_type": "code",
   "execution_count": 752,
   "id": "studied-dynamics",
   "metadata": {},
   "outputs": [
    {
     "data": {
      "text/html": [
       "<div>\n",
       "<style scoped>\n",
       "    .dataframe tbody tr th:only-of-type {\n",
       "        vertical-align: middle;\n",
       "    }\n",
       "\n",
       "    .dataframe tbody tr th {\n",
       "        vertical-align: top;\n",
       "    }\n",
       "\n",
       "    .dataframe thead th {\n",
       "        text-align: right;\n",
       "    }\n",
       "</style>\n",
       "<table border=\"1\" class=\"dataframe\">\n",
       "  <thead>\n",
       "    <tr style=\"text-align: right;\">\n",
       "      <th></th>\n",
       "      <th>PATIENTS</th>\n",
       "      <th>PCNT_CHANGE</th>\n",
       "    </tr>\n",
       "  </thead>\n",
       "  <tbody>\n",
       "    <tr>\n",
       "      <th>count</th>\n",
       "      <td>500.000000</td>\n",
       "      <td>5.000000e+02</td>\n",
       "    </tr>\n",
       "    <tr>\n",
       "      <th>mean</th>\n",
       "      <td>2005.692000</td>\n",
       "      <td>-9.999829e+05</td>\n",
       "    </tr>\n",
       "    <tr>\n",
       "      <th>std</th>\n",
       "      <td>3783.358932</td>\n",
       "      <td>1.339249e+07</td>\n",
       "    </tr>\n",
       "    <tr>\n",
       "      <th>min</th>\n",
       "      <td>0.000000</td>\n",
       "      <td>-2.000000e+08</td>\n",
       "    </tr>\n",
       "    <tr>\n",
       "      <th>25%</th>\n",
       "      <td>95.500000</td>\n",
       "      <td>6.409322e+00</td>\n",
       "    </tr>\n",
       "    <tr>\n",
       "      <th>50%</th>\n",
       "      <td>688.000000</td>\n",
       "      <td>2.149631e+01</td>\n",
       "    </tr>\n",
       "    <tr>\n",
       "      <th>75%</th>\n",
       "      <td>2120.750000</td>\n",
       "      <td>3.432298e+01</td>\n",
       "    </tr>\n",
       "    <tr>\n",
       "      <th>max</th>\n",
       "      <td>30791.000000</td>\n",
       "      <td>9.999998e+01</td>\n",
       "    </tr>\n",
       "  </tbody>\n",
       "</table>\n",
       "</div>"
      ],
      "text/plain": [
       "           PATIENTS   PCNT_CHANGE\n",
       "count    500.000000  5.000000e+02\n",
       "mean    2005.692000 -9.999829e+05\n",
       "std     3783.358932  1.339249e+07\n",
       "min        0.000000 -2.000000e+08\n",
       "25%       95.500000  6.409322e+00\n",
       "50%      688.000000  2.149631e+01\n",
       "75%     2120.750000  3.432298e+01\n",
       "max    30791.000000  9.999998e+01"
      ]
     },
     "execution_count": 752,
     "metadata": {},
     "output_type": "execute_result"
    }
   ],
   "source": [
    "temp_2020_df.describe()"
   ]
  },
  {
   "cell_type": "code",
   "execution_count": 753,
   "id": "driven-stationery",
   "metadata": {},
   "outputs": [
    {
     "data": {
      "text/html": [
       "<div>\n",
       "<style scoped>\n",
       "    .dataframe tbody tr th:only-of-type {\n",
       "        vertical-align: middle;\n",
       "    }\n",
       "\n",
       "    .dataframe tbody tr th {\n",
       "        vertical-align: top;\n",
       "    }\n",
       "\n",
       "    .dataframe thead th {\n",
       "        text-align: right;\n",
       "    }\n",
       "</style>\n",
       "<table border=\"1\" class=\"dataframe\">\n",
       "  <thead>\n",
       "    <tr style=\"text-align: right;\">\n",
       "      <th></th>\n",
       "      <th>PTNT_ST_ABBR</th>\n",
       "      <th>ELECT_PX</th>\n",
       "      <th>PATIENTS</th>\n",
       "    </tr>\n",
       "  </thead>\n",
       "  <tbody>\n",
       "    <tr>\n",
       "      <th>0</th>\n",
       "      <td>AK</td>\n",
       "      <td>CABG</td>\n",
       "      <td>1</td>\n",
       "    </tr>\n",
       "    <tr>\n",
       "      <th>1</th>\n",
       "      <td>AK</td>\n",
       "      <td>CATARACT</td>\n",
       "      <td>316</td>\n",
       "    </tr>\n",
       "    <tr>\n",
       "      <th>2</th>\n",
       "      <td>AK</td>\n",
       "      <td>CHOLECYSTECTOMY</td>\n",
       "      <td>196</td>\n",
       "    </tr>\n",
       "    <tr>\n",
       "      <th>3</th>\n",
       "      <td>AK</td>\n",
       "      <td>COSMETIC RECONSTRUCTION</td>\n",
       "      <td>1</td>\n",
       "    </tr>\n",
       "    <tr>\n",
       "      <th>4</th>\n",
       "      <td>AK</td>\n",
       "      <td>CYSTOSCOPY</td>\n",
       "      <td>342</td>\n",
       "    </tr>\n",
       "    <tr>\n",
       "      <th>...</th>\n",
       "      <td>...</td>\n",
       "      <td>...</td>\n",
       "      <td>...</td>\n",
       "    </tr>\n",
       "    <tr>\n",
       "      <th>495</th>\n",
       "      <td>WY</td>\n",
       "      <td>HIP REPLACEMENT</td>\n",
       "      <td>104</td>\n",
       "    </tr>\n",
       "    <tr>\n",
       "      <th>496</th>\n",
       "      <td>WY</td>\n",
       "      <td>HYSTEROSCOPY</td>\n",
       "      <td>35</td>\n",
       "    </tr>\n",
       "    <tr>\n",
       "      <th>497</th>\n",
       "      <td>WY</td>\n",
       "      <td>KNEE REPLACEMENT</td>\n",
       "      <td>164</td>\n",
       "    </tr>\n",
       "    <tr>\n",
       "      <th>498</th>\n",
       "      <td>WY</td>\n",
       "      <td>MASTECTOMY</td>\n",
       "      <td>61</td>\n",
       "    </tr>\n",
       "    <tr>\n",
       "      <th>499</th>\n",
       "      <td>WY</td>\n",
       "      <td>PROSTATECTOMY</td>\n",
       "      <td>28</td>\n",
       "    </tr>\n",
       "  </tbody>\n",
       "</table>\n",
       "<p>500 rows × 3 columns</p>\n",
       "</div>"
      ],
      "text/plain": [
       "    PTNT_ST_ABBR                 ELECT_PX  PATIENTS\n",
       "0             AK                     CABG         1\n",
       "1             AK                 CATARACT       316\n",
       "2             AK          CHOLECYSTECTOMY       196\n",
       "3             AK  COSMETIC RECONSTRUCTION         1\n",
       "4             AK               CYSTOSCOPY       342\n",
       "..           ...                      ...       ...\n",
       "495           WY          HIP REPLACEMENT       104\n",
       "496           WY             HYSTEROSCOPY        35\n",
       "497           WY         KNEE REPLACEMENT       164\n",
       "498           WY               MASTECTOMY        61\n",
       "499           WY            PROSTATECTOMY        28\n",
       "\n",
       "[500 rows x 3 columns]"
      ]
     },
     "execution_count": 753,
     "metadata": {},
     "output_type": "execute_result"
    }
   ],
   "source": [
    "temp_2019_df.sort_values(by=['PTNT_ST_ABBR', 'ELECT_PX'], ascending = True)"
   ]
  },
  {
   "cell_type": "code",
   "execution_count": 754,
   "id": "eight-memorial",
   "metadata": {},
   "outputs": [
    {
     "name": "stdout",
     "output_type": "stream",
     "text": [
      "<class 'pandas.core.frame.DataFrame'>\n",
      "RangeIndex: 500 entries, 0 to 499\n",
      "Data columns (total 4 columns):\n",
      " #   Column        Non-Null Count  Dtype  \n",
      "---  ------        --------------  -----  \n",
      " 0   PTNT_ST_ABBR  500 non-null    object \n",
      " 1   ELECT_PX      500 non-null    object \n",
      " 2   PATIENTS      500 non-null    int64  \n",
      " 3   PCNT_CHANGE   500 non-null    float64\n",
      "dtypes: float64(1), int64(1), object(2)\n",
      "memory usage: 15.8+ KB\n"
     ]
    }
   ],
   "source": [
    "temp_2020_df.info()"
   ]
  },
  {
   "cell_type": "code",
   "execution_count": 755,
   "id": "corresponding-rebecca",
   "metadata": {},
   "outputs": [
    {
     "data": {
      "text/plain": [
       "433"
      ]
     },
     "execution_count": 755,
     "metadata": {},
     "output_type": "execute_result"
    }
   ],
   "source": [
    "temp_2020_df['PCNT_CHANGE'].idxmin()"
   ]
  },
  {
   "cell_type": "code",
   "execution_count": 756,
   "id": "manual-addiction",
   "metadata": {},
   "outputs": [
    {
     "data": {
      "text/plain": [
       "PTNT_ST_ABBR                         UT\n",
       "ELECT_PX        COSMETIC RECONSTRUCTION\n",
       "PATIENTS                              2\n",
       "PCNT_CHANGE                -200000000.0\n",
       "Name: 433, dtype: object"
      ]
     },
     "execution_count": 756,
     "metadata": {},
     "output_type": "execute_result"
    }
   ],
   "source": [
    "temp_2020_df.iloc[433]"
   ]
  },
  {
   "cell_type": "code",
   "execution_count": 757,
   "id": "round-suggestion",
   "metadata": {},
   "outputs": [
    {
     "data": {
      "text/plain": [
       "PTNT_ST_ABBR                         UT\n",
       "ELECT_PX        COSMETIC RECONSTRUCTION\n",
       "PATIENTS                              0\n",
       "Name: 433, dtype: object"
      ]
     },
     "execution_count": 757,
     "metadata": {},
     "output_type": "execute_result"
    }
   ],
   "source": [
    "temp_2019_df.iloc[433]"
   ]
  },
  {
   "cell_type": "code",
   "execution_count": 787,
   "id": "bearing-creator",
   "metadata": {},
   "outputs": [
    {
     "data": {
      "image/png": "[encoded data removed]",
      "text/plain": [
       "<Figure size 2880x1440 with 1 Axes>"
      ]
     },
     "metadata": {
      "needs_background": "light"
     },
     "output_type": "display_data"
    }
   ],
   "source": [
    "cabg_filter = temp_2020_df['ELECT_PX'] == 'CABG'\n",
    "cataract_filter = temp_2020_df['ELECT_PX'] == 'CATARACT'\n",
    "chole_filter = temp_2020_df['ELECT_PX'] == 'CHOLECYSTECTOMY'\n",
    "cosm_filter = temp_2020_df['ELECT_PX'] == 'COSMETIC RECONSTRUCTION'\n",
    "cyst_filter = temp_2020_df['ELECT_PX'] == 'CYSTOSCOPY'\n",
    "hip_filter = temp_2020_df['ELECT_PX'] == 'HIP REPLACEMENT'\n",
    "hyst_filter = temp_2020_df['ELECT_PX'] == 'HYSTEROSCOPY'\n",
    "knee_filter = temp_2020_df['ELECT_PX'] == 'KNEE REPLACEMENT'\n",
    "mast_filter = temp_2020_df['ELECT_PX'] == 'MASTECTOMY'\n",
    "prost_filter = temp_2020_df['ELECT_PX'] == 'PROSTATECTOMY'\n",
    "\n",
    "cabg_change = temp_2020_df[cabg_filter]['PCNT_CHANGE'].values.tolist()[0:5]\n",
    "cataract_change = temp_2020_df[cataract_filter]['PCNT_CHANGE'].values.tolist()[0:5]\n",
    "chole_change = temp_2020_df[chole_filter]['PCNT_CHANGE'].values.tolist()[0:5]\n",
    "cosm_change = temp_2020_df[cosm_filter]['PCNT_CHANGE'].values.tolist()[0:5]\n",
    "cyst_change = temp_2020_df[cyst_filter]['PCNT_CHANGE'].values.tolist()[0:5]\n",
    "hip_change = temp_2020_df[hip_filter]['PCNT_CHANGE'].values.tolist()[0:5]\n",
    "hyst_change = temp_2020_df[hyst_filter]['PCNT_CHANGE'].values.tolist()[0:5]\n",
    "knee_change = temp_2020_df[knee_filter]['PCNT_CHANGE'].values.tolist()[0:5]\n",
    "mast_change = temp_2020_df[mast_filter]['PCNT_CHANGE'].values.tolist()[0:5]\n",
    "prost_change = temp_2020_df[prost_filter]['PCNT_CHANGE'].values.tolist()[0:5]\n",
    "\n",
    "states = restrictions_df.index.values.tolist()[0:5]\n",
    "\n",
    "x = np.arange(len(states))\n",
    "width = 0.07\n",
    "\n",
    "fig, ax = plt.subplots(figsize = (40, 20))\n",
    "rects1 = ax.bar(x - width*(11/2), cabg_change, width, label='CABG')\n",
    "rects2 = ax.bar(x - width*(9/2), cataract_change, width, label='Cataract')\n",
    "rects3 = ax.bar(x - width*(7/2), chole_change, width, label='Cholecystectomy')\n",
    "rects4 = ax.bar(x - width*(5/2), cosm_change, width, label='Cosmetic Reconstruction')\n",
    "rects5 = ax.bar(x - width*(3/2), cyst_change, width, label='Cystoscopy')\n",
    "rects6 = ax.bar(x, hip_change, width, label='Hip Replacement')\n",
    "rects7 = ax.bar(x + width*(3/2), hyst_change, width, label='Hysteroscopy')\n",
    "rects8 = ax.bar(x + width*(5/2), knee_change, width, label='Knee Replacement')\n",
    "rects9 = ax.bar(x + width*(7/2), mast_change, width, label='Mastectomy')\n",
    "rects10 = ax.bar(x + width*(9/2), prost_change, width, label='Prostatectomy')\n",
    "\n",
    "ax.set_ylabel('% Change in Surgeries Performed', fontsize = 25)\n",
    "ax.set_xlabel('State', fontsize = 30)\n",
    "ax.set_title('Pandemic Change in Elective Surgeries Performed by State', fontsize = 35)\n",
    "ax.set_xticks(x)\n",
    "ax.set_yticks(range(0, 100, 20))\n",
    "ax.set(ylim=(0, 100))\n",
    "ax.set_xticklabels(states, rotation = \"vertical\", fontsize = 30)\n",
    "ax.tick_params(axis = 'y', labelsize = 16)\n",
    "ax.legend(fontsize = 20)\n",
    "\n",
    "def autolabel(rects):\n",
    "    for rect in rects:\n",
    "        height = rect.get_height()\n",
    "        ax.text(rect.get_x()+rect.get_width()/2, 1.005*height, '%d'%int(height),\n",
    "                ha='center', va='bottom', fontsize = 11)\n",
    "autolabel(rects1)\n",
    "autolabel(rects2)\n",
    "autolabel(rects3)\n",
    "autolabel(rects4)\n",
    "autolabel(rects5)\n",
    "autolabel(rects6)\n",
    "autolabel(rects7)\n",
    "autolabel(rects8)\n",
    "autolabel(rects9)\n",
    "autolabel(rects10)\n",
    "\n",
    "plt.show()"
   ]
  }
 ],
 "metadata": {
  "kernelspec": {
   "display_name": "Python 3",
   "language": "python",
   "name": "python3"
  },
  "language_info": {
   "codemirror_mode": {
    "name": "ipython",
    "version": 3
   },
   "file_extension": ".py",
   "mimetype": "text/x-python",
   "name": "python",
   "nbconvert_exporter": "python",
   "pygments_lexer": "ipython3",
   "version": "3.8.5"
  }
 },
 "nbformat": 4,
 "nbformat_minor": 5
}
